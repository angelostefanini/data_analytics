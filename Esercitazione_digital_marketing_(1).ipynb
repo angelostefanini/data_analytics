{
  "nbformat": 4,
  "nbformat_minor": 0,
  "metadata": {
    "colab": {
      "provenance": [],
      "include_colab_link": true
    },
    "kernelspec": {
      "name": "python3",
      "display_name": "Python 3"
    },
    "language_info": {
      "name": "python"
    }
  },
  "cells": [
    {
      "cell_type": "markdown",
      "metadata": {
        "id": "view-in-github",
        "colab_type": "text"
      },
      "source": [
        "<a href=\"https://colab.research.google.com/github/angelostefanini/data_analytics/blob/main/Esercitazione_digital_marketing_(1).ipynb\" target=\"_parent\"><img src=\"https://colab.research.google.com/assets/colab-badge.svg\" alt=\"Open In Colab\"/></a>"
      ]
    },
    {
      "cell_type": "code",
      "execution_count": 91,
      "metadata": {
        "id": "9IwtLebTv8P2"
      },
      "outputs": [],
      "source": [
        "import pandas as pd\n",
        "import numpy as np\n",
        "import matplotlib as mpl\n",
        "import matplotlib.pyplot as plt\n",
        "import seaborn as sns"
      ]
    },
    {
      "cell_type": "code",
      "source": [
        "import pandas as pd\n",
        "\n",
        "df=pd.read_csv(\"data.csv\", encoding=\"ISO-8859-1\",\n",
        "                         dtype={'CustomerID': str,'InvoiceID': str})\n"
      ],
      "metadata": {
        "id": "ZDezG-aGyGa0"
      },
      "execution_count": 92,
      "outputs": []
    },
    {
      "cell_type": "markdown",
      "source": [
        "**Data overview and summary** **statistics**"
      ],
      "metadata": {
        "id": "du_zZexIzY7f"
      }
    },
    {
      "cell_type": "code",
      "source": [
        "df.head(10)"
      ],
      "metadata": {
        "id": "a45RDKX7y68c",
        "outputId": "b95882ec-a282-4926-be54-b0be30d7ca09",
        "colab": {
          "base_uri": "https://localhost:8080/",
          "height": 363
        }
      },
      "execution_count": 93,
      "outputs": [
        {
          "output_type": "execute_result",
          "data": {
            "text/plain": [
              "  InvoiceNo StockCode                          Description  Quantity  \\\n",
              "0    536365    85123A   WHITE HANGING HEART T-LIGHT HOLDER         6   \n",
              "1    536365     71053                  WHITE METAL LANTERN         6   \n",
              "2    536365    84406B       CREAM CUPID HEARTS COAT HANGER         8   \n",
              "3    536365    84029G  KNITTED UNION FLAG HOT WATER BOTTLE         6   \n",
              "4    536365    84029E       RED WOOLLY HOTTIE WHITE HEART.         6   \n",
              "5    536365     22752         SET 7 BABUSHKA NESTING BOXES         2   \n",
              "6    536365     21730    GLASS STAR FROSTED T-LIGHT HOLDER         6   \n",
              "7    536366     22633               HAND WARMER UNION JACK         6   \n",
              "8    536366     22632            HAND WARMER RED POLKA DOT         6   \n",
              "9    536367     84879        ASSORTED COLOUR BIRD ORNAMENT        32   \n",
              "\n",
              "      InvoiceDate  UnitPrice CustomerID         Country  \n",
              "0  12/1/2010 8:26       2.55      17850  United Kingdom  \n",
              "1  12/1/2010 8:26       3.39      17850  United Kingdom  \n",
              "2  12/1/2010 8:26       2.75      17850  United Kingdom  \n",
              "3  12/1/2010 8:26       3.39      17850  United Kingdom  \n",
              "4  12/1/2010 8:26       3.39      17850  United Kingdom  \n",
              "5  12/1/2010 8:26       7.65      17850  United Kingdom  \n",
              "6  12/1/2010 8:26       4.25      17850  United Kingdom  \n",
              "7  12/1/2010 8:28       1.85      17850  United Kingdom  \n",
              "8  12/1/2010 8:28       1.85      17850  United Kingdom  \n",
              "9  12/1/2010 8:34       1.69      13047  United Kingdom  "
            ],
            "text/html": [
              "\n",
              "  <div id=\"df-cca12978-d514-41f4-ab0b-8226b2142924\" class=\"colab-df-container\">\n",
              "    <div>\n",
              "<style scoped>\n",
              "    .dataframe tbody tr th:only-of-type {\n",
              "        vertical-align: middle;\n",
              "    }\n",
              "\n",
              "    .dataframe tbody tr th {\n",
              "        vertical-align: top;\n",
              "    }\n",
              "\n",
              "    .dataframe thead th {\n",
              "        text-align: right;\n",
              "    }\n",
              "</style>\n",
              "<table border=\"1\" class=\"dataframe\">\n",
              "  <thead>\n",
              "    <tr style=\"text-align: right;\">\n",
              "      <th></th>\n",
              "      <th>InvoiceNo</th>\n",
              "      <th>StockCode</th>\n",
              "      <th>Description</th>\n",
              "      <th>Quantity</th>\n",
              "      <th>InvoiceDate</th>\n",
              "      <th>UnitPrice</th>\n",
              "      <th>CustomerID</th>\n",
              "      <th>Country</th>\n",
              "    </tr>\n",
              "  </thead>\n",
              "  <tbody>\n",
              "    <tr>\n",
              "      <th>0</th>\n",
              "      <td>536365</td>\n",
              "      <td>85123A</td>\n",
              "      <td>WHITE HANGING HEART T-LIGHT HOLDER</td>\n",
              "      <td>6</td>\n",
              "      <td>12/1/2010 8:26</td>\n",
              "      <td>2.55</td>\n",
              "      <td>17850</td>\n",
              "      <td>United Kingdom</td>\n",
              "    </tr>\n",
              "    <tr>\n",
              "      <th>1</th>\n",
              "      <td>536365</td>\n",
              "      <td>71053</td>\n",
              "      <td>WHITE METAL LANTERN</td>\n",
              "      <td>6</td>\n",
              "      <td>12/1/2010 8:26</td>\n",
              "      <td>3.39</td>\n",
              "      <td>17850</td>\n",
              "      <td>United Kingdom</td>\n",
              "    </tr>\n",
              "    <tr>\n",
              "      <th>2</th>\n",
              "      <td>536365</td>\n",
              "      <td>84406B</td>\n",
              "      <td>CREAM CUPID HEARTS COAT HANGER</td>\n",
              "      <td>8</td>\n",
              "      <td>12/1/2010 8:26</td>\n",
              "      <td>2.75</td>\n",
              "      <td>17850</td>\n",
              "      <td>United Kingdom</td>\n",
              "    </tr>\n",
              "    <tr>\n",
              "      <th>3</th>\n",
              "      <td>536365</td>\n",
              "      <td>84029G</td>\n",
              "      <td>KNITTED UNION FLAG HOT WATER BOTTLE</td>\n",
              "      <td>6</td>\n",
              "      <td>12/1/2010 8:26</td>\n",
              "      <td>3.39</td>\n",
              "      <td>17850</td>\n",
              "      <td>United Kingdom</td>\n",
              "    </tr>\n",
              "    <tr>\n",
              "      <th>4</th>\n",
              "      <td>536365</td>\n",
              "      <td>84029E</td>\n",
              "      <td>RED WOOLLY HOTTIE WHITE HEART.</td>\n",
              "      <td>6</td>\n",
              "      <td>12/1/2010 8:26</td>\n",
              "      <td>3.39</td>\n",
              "      <td>17850</td>\n",
              "      <td>United Kingdom</td>\n",
              "    </tr>\n",
              "    <tr>\n",
              "      <th>5</th>\n",
              "      <td>536365</td>\n",
              "      <td>22752</td>\n",
              "      <td>SET 7 BABUSHKA NESTING BOXES</td>\n",
              "      <td>2</td>\n",
              "      <td>12/1/2010 8:26</td>\n",
              "      <td>7.65</td>\n",
              "      <td>17850</td>\n",
              "      <td>United Kingdom</td>\n",
              "    </tr>\n",
              "    <tr>\n",
              "      <th>6</th>\n",
              "      <td>536365</td>\n",
              "      <td>21730</td>\n",
              "      <td>GLASS STAR FROSTED T-LIGHT HOLDER</td>\n",
              "      <td>6</td>\n",
              "      <td>12/1/2010 8:26</td>\n",
              "      <td>4.25</td>\n",
              "      <td>17850</td>\n",
              "      <td>United Kingdom</td>\n",
              "    </tr>\n",
              "    <tr>\n",
              "      <th>7</th>\n",
              "      <td>536366</td>\n",
              "      <td>22633</td>\n",
              "      <td>HAND WARMER UNION JACK</td>\n",
              "      <td>6</td>\n",
              "      <td>12/1/2010 8:28</td>\n",
              "      <td>1.85</td>\n",
              "      <td>17850</td>\n",
              "      <td>United Kingdom</td>\n",
              "    </tr>\n",
              "    <tr>\n",
              "      <th>8</th>\n",
              "      <td>536366</td>\n",
              "      <td>22632</td>\n",
              "      <td>HAND WARMER RED POLKA DOT</td>\n",
              "      <td>6</td>\n",
              "      <td>12/1/2010 8:28</td>\n",
              "      <td>1.85</td>\n",
              "      <td>17850</td>\n",
              "      <td>United Kingdom</td>\n",
              "    </tr>\n",
              "    <tr>\n",
              "      <th>9</th>\n",
              "      <td>536367</td>\n",
              "      <td>84879</td>\n",
              "      <td>ASSORTED COLOUR BIRD ORNAMENT</td>\n",
              "      <td>32</td>\n",
              "      <td>12/1/2010 8:34</td>\n",
              "      <td>1.69</td>\n",
              "      <td>13047</td>\n",
              "      <td>United Kingdom</td>\n",
              "    </tr>\n",
              "  </tbody>\n",
              "</table>\n",
              "</div>\n",
              "    <div class=\"colab-df-buttons\">\n",
              "\n",
              "  <div class=\"colab-df-container\">\n",
              "    <button class=\"colab-df-convert\" onclick=\"convertToInteractive('df-cca12978-d514-41f4-ab0b-8226b2142924')\"\n",
              "            title=\"Convert this dataframe to an interactive table.\"\n",
              "            style=\"display:none;\">\n",
              "\n",
              "  <svg xmlns=\"http://www.w3.org/2000/svg\" height=\"24px\" viewBox=\"0 -960 960 960\">\n",
              "    <path d=\"M120-120v-720h720v720H120Zm60-500h600v-160H180v160Zm220 220h160v-160H400v160Zm0 220h160v-160H400v160ZM180-400h160v-160H180v160Zm440 0h160v-160H620v160ZM180-180h160v-160H180v160Zm440 0h160v-160H620v160Z\"/>\n",
              "  </svg>\n",
              "    </button>\n",
              "\n",
              "  <style>\n",
              "    .colab-df-container {\n",
              "      display:flex;\n",
              "      gap: 12px;\n",
              "    }\n",
              "\n",
              "    .colab-df-convert {\n",
              "      background-color: #E8F0FE;\n",
              "      border: none;\n",
              "      border-radius: 50%;\n",
              "      cursor: pointer;\n",
              "      display: none;\n",
              "      fill: #1967D2;\n",
              "      height: 32px;\n",
              "      padding: 0 0 0 0;\n",
              "      width: 32px;\n",
              "    }\n",
              "\n",
              "    .colab-df-convert:hover {\n",
              "      background-color: #E2EBFA;\n",
              "      box-shadow: 0px 1px 2px rgba(60, 64, 67, 0.3), 0px 1px 3px 1px rgba(60, 64, 67, 0.15);\n",
              "      fill: #174EA6;\n",
              "    }\n",
              "\n",
              "    .colab-df-buttons div {\n",
              "      margin-bottom: 4px;\n",
              "    }\n",
              "\n",
              "    [theme=dark] .colab-df-convert {\n",
              "      background-color: #3B4455;\n",
              "      fill: #D2E3FC;\n",
              "    }\n",
              "\n",
              "    [theme=dark] .colab-df-convert:hover {\n",
              "      background-color: #434B5C;\n",
              "      box-shadow: 0px 1px 3px 1px rgba(0, 0, 0, 0.15);\n",
              "      filter: drop-shadow(0px 1px 2px rgba(0, 0, 0, 0.3));\n",
              "      fill: #FFFFFF;\n",
              "    }\n",
              "  </style>\n",
              "\n",
              "    <script>\n",
              "      const buttonEl =\n",
              "        document.querySelector('#df-cca12978-d514-41f4-ab0b-8226b2142924 button.colab-df-convert');\n",
              "      buttonEl.style.display =\n",
              "        google.colab.kernel.accessAllowed ? 'block' : 'none';\n",
              "\n",
              "      async function convertToInteractive(key) {\n",
              "        const element = document.querySelector('#df-cca12978-d514-41f4-ab0b-8226b2142924');\n",
              "        const dataTable =\n",
              "          await google.colab.kernel.invokeFunction('convertToInteractive',\n",
              "                                                    [key], {});\n",
              "        if (!dataTable) return;\n",
              "\n",
              "        const docLinkHtml = 'Like what you see? Visit the ' +\n",
              "          '<a target=\"_blank\" href=https://colab.research.google.com/notebooks/data_table.ipynb>data table notebook</a>'\n",
              "          + ' to learn more about interactive tables.';\n",
              "        element.innerHTML = '';\n",
              "        dataTable['output_type'] = 'display_data';\n",
              "        await google.colab.output.renderOutput(dataTable, element);\n",
              "        const docLink = document.createElement('div');\n",
              "        docLink.innerHTML = docLinkHtml;\n",
              "        element.appendChild(docLink);\n",
              "      }\n",
              "    </script>\n",
              "  </div>\n",
              "\n",
              "\n",
              "<div id=\"df-d4cde2d4-b91f-4a2e-aeab-9c7de228c404\">\n",
              "  <button class=\"colab-df-quickchart\" onclick=\"quickchart('df-d4cde2d4-b91f-4a2e-aeab-9c7de228c404')\"\n",
              "            title=\"Suggest charts\"\n",
              "            style=\"display:none;\">\n",
              "\n",
              "<svg xmlns=\"http://www.w3.org/2000/svg\" height=\"24px\"viewBox=\"0 0 24 24\"\n",
              "     width=\"24px\">\n",
              "    <g>\n",
              "        <path d=\"M19 3H5c-1.1 0-2 .9-2 2v14c0 1.1.9 2 2 2h14c1.1 0 2-.9 2-2V5c0-1.1-.9-2-2-2zM9 17H7v-7h2v7zm4 0h-2V7h2v10zm4 0h-2v-4h2v4z\"/>\n",
              "    </g>\n",
              "</svg>\n",
              "  </button>\n",
              "\n",
              "<style>\n",
              "  .colab-df-quickchart {\n",
              "      --bg-color: #E8F0FE;\n",
              "      --fill-color: #1967D2;\n",
              "      --hover-bg-color: #E2EBFA;\n",
              "      --hover-fill-color: #174EA6;\n",
              "      --disabled-fill-color: #AAA;\n",
              "      --disabled-bg-color: #DDD;\n",
              "  }\n",
              "\n",
              "  [theme=dark] .colab-df-quickchart {\n",
              "      --bg-color: #3B4455;\n",
              "      --fill-color: #D2E3FC;\n",
              "      --hover-bg-color: #434B5C;\n",
              "      --hover-fill-color: #FFFFFF;\n",
              "      --disabled-bg-color: #3B4455;\n",
              "      --disabled-fill-color: #666;\n",
              "  }\n",
              "\n",
              "  .colab-df-quickchart {\n",
              "    background-color: var(--bg-color);\n",
              "    border: none;\n",
              "    border-radius: 50%;\n",
              "    cursor: pointer;\n",
              "    display: none;\n",
              "    fill: var(--fill-color);\n",
              "    height: 32px;\n",
              "    padding: 0;\n",
              "    width: 32px;\n",
              "  }\n",
              "\n",
              "  .colab-df-quickchart:hover {\n",
              "    background-color: var(--hover-bg-color);\n",
              "    box-shadow: 0 1px 2px rgba(60, 64, 67, 0.3), 0 1px 3px 1px rgba(60, 64, 67, 0.15);\n",
              "    fill: var(--button-hover-fill-color);\n",
              "  }\n",
              "\n",
              "  .colab-df-quickchart-complete:disabled,\n",
              "  .colab-df-quickchart-complete:disabled:hover {\n",
              "    background-color: var(--disabled-bg-color);\n",
              "    fill: var(--disabled-fill-color);\n",
              "    box-shadow: none;\n",
              "  }\n",
              "\n",
              "  .colab-df-spinner {\n",
              "    border: 2px solid var(--fill-color);\n",
              "    border-color: transparent;\n",
              "    border-bottom-color: var(--fill-color);\n",
              "    animation:\n",
              "      spin 1s steps(1) infinite;\n",
              "  }\n",
              "\n",
              "  @keyframes spin {\n",
              "    0% {\n",
              "      border-color: transparent;\n",
              "      border-bottom-color: var(--fill-color);\n",
              "      border-left-color: var(--fill-color);\n",
              "    }\n",
              "    20% {\n",
              "      border-color: transparent;\n",
              "      border-left-color: var(--fill-color);\n",
              "      border-top-color: var(--fill-color);\n",
              "    }\n",
              "    30% {\n",
              "      border-color: transparent;\n",
              "      border-left-color: var(--fill-color);\n",
              "      border-top-color: var(--fill-color);\n",
              "      border-right-color: var(--fill-color);\n",
              "    }\n",
              "    40% {\n",
              "      border-color: transparent;\n",
              "      border-right-color: var(--fill-color);\n",
              "      border-top-color: var(--fill-color);\n",
              "    }\n",
              "    60% {\n",
              "      border-color: transparent;\n",
              "      border-right-color: var(--fill-color);\n",
              "    }\n",
              "    80% {\n",
              "      border-color: transparent;\n",
              "      border-right-color: var(--fill-color);\n",
              "      border-bottom-color: var(--fill-color);\n",
              "    }\n",
              "    90% {\n",
              "      border-color: transparent;\n",
              "      border-bottom-color: var(--fill-color);\n",
              "    }\n",
              "  }\n",
              "</style>\n",
              "\n",
              "  <script>\n",
              "    async function quickchart(key) {\n",
              "      const quickchartButtonEl =\n",
              "        document.querySelector('#' + key + ' button');\n",
              "      quickchartButtonEl.disabled = true;  // To prevent multiple clicks.\n",
              "      quickchartButtonEl.classList.add('colab-df-spinner');\n",
              "      try {\n",
              "        const charts = await google.colab.kernel.invokeFunction(\n",
              "            'suggestCharts', [key], {});\n",
              "      } catch (error) {\n",
              "        console.error('Error during call to suggestCharts:', error);\n",
              "      }\n",
              "      quickchartButtonEl.classList.remove('colab-df-spinner');\n",
              "      quickchartButtonEl.classList.add('colab-df-quickchart-complete');\n",
              "    }\n",
              "    (() => {\n",
              "      let quickchartButtonEl =\n",
              "        document.querySelector('#df-d4cde2d4-b91f-4a2e-aeab-9c7de228c404 button');\n",
              "      quickchartButtonEl.style.display =\n",
              "        google.colab.kernel.accessAllowed ? 'block' : 'none';\n",
              "    })();\n",
              "  </script>\n",
              "</div>\n",
              "    </div>\n",
              "  </div>\n"
            ],
            "application/vnd.google.colaboratory.intrinsic+json": {
              "type": "dataframe",
              "variable_name": "df"
            }
          },
          "metadata": {},
          "execution_count": 93
        }
      ]
    },
    {
      "cell_type": "code",
      "source": [
        "# Filtra il DataFrame per il CustomerID 17850\n",
        "customer_data = df.loc[df['CustomerID'] == 17850]\n",
        "\n",
        "# Stampa il DataFrame filtrato\n",
        "print(customer_data)\n",
        "\n",
        "\n",
        "\n"
      ],
      "metadata": {
        "colab": {
          "base_uri": "https://localhost:8080/"
        },
        "id": "jJlMlV8Xm-_k",
        "outputId": "a81c512b-f51a-460a-ff76-1b6969236066"
      },
      "execution_count": 94,
      "outputs": [
        {
          "output_type": "stream",
          "name": "stdout",
          "text": [
            "Empty DataFrame\n",
            "Columns: [InvoiceNo, StockCode, Description, Quantity, InvoiceDate, UnitPrice, CustomerID, Country]\n",
            "Index: []\n"
          ]
        }
      ]
    },
    {
      "cell_type": "markdown",
      "source": [
        "***Descrizione delle variabili***\n",
        "\n",
        "InvoiceNo: Il numero della fattura, identificato nominalmente come un numero intero a 6 cifre assegnato univocamente a ogni transazione. Se il codice inizia con la lettera 'c', indica una cancellazione.\n",
        "\n",
        "StockCode: Il codice del prodotto (articolo), designato nominalmente come un numero intero a 5 cifre assegnato univocamente a ciascun prodotto distinto.\n",
        "\n",
        "Description: Il nome del prodotto (articolo), categorizzato come nominale.\n",
        "\n",
        "Quantity: Le quantità di ciascun prodotto (articolo) per transazione, rappresentate numericamente.\n",
        "\n",
        "InvoiceDate: La data e l'ora della fattura, rappresentate numericamente, indicando il giorno e l'ora di ciascuna transazione.\n",
        "\n",
        "UnitPrice: Il prezzo unitario del prodotto, indicato numericamente come il prezzo per unità in sterline.\n",
        "\n",
        "CustomerID: Il numero del cliente, indicato nominalmente come un numero intero a 5 cifre assegnato univocamente a ciascun cliente.\n",
        "\n",
        "Country: Il nome del paese, identificato nominalmente come il paese in cui risiede ciascun cliente."
      ],
      "metadata": {
        "id": "cpS_9JCc2Y2g"
      }
    },
    {
      "cell_type": "code",
      "source": [
        "df.shape"
      ],
      "metadata": {
        "id": "oTWZm-A708pC",
        "outputId": "e86c401a-a728-442d-85ea-0ea57ed2d574",
        "colab": {
          "base_uri": "https://localhost:8080/"
        }
      },
      "execution_count": 95,
      "outputs": [
        {
          "output_type": "execute_result",
          "data": {
            "text/plain": [
              "(541909, 8)"
            ]
          },
          "metadata": {},
          "execution_count": 95
        }
      ]
    },
    {
      "cell_type": "code",
      "source": [
        "df.info()"
      ],
      "metadata": {
        "id": "5C7qvs4B5BI9",
        "outputId": "1ae0788b-698d-4e59-feb3-04045852c37f",
        "colab": {
          "base_uri": "https://localhost:8080/"
        }
      },
      "execution_count": 96,
      "outputs": [
        {
          "output_type": "stream",
          "name": "stdout",
          "text": [
            "<class 'pandas.core.frame.DataFrame'>\n",
            "RangeIndex: 541909 entries, 0 to 541908\n",
            "Data columns (total 8 columns):\n",
            " #   Column       Non-Null Count   Dtype  \n",
            "---  ------       --------------   -----  \n",
            " 0   InvoiceNo    541909 non-null  object \n",
            " 1   StockCode    541909 non-null  object \n",
            " 2   Description  540455 non-null  object \n",
            " 3   Quantity     541909 non-null  int64  \n",
            " 4   InvoiceDate  541909 non-null  object \n",
            " 5   UnitPrice    541909 non-null  float64\n",
            " 6   CustomerID   406829 non-null  object \n",
            " 7   Country      541909 non-null  object \n",
            "dtypes: float64(1), int64(1), object(6)\n",
            "memory usage: 33.1+ MB\n"
          ]
        }
      ]
    },
    {
      "cell_type": "markdown",
      "source": [
        "Identifico e quantifico i valori nulli"
      ],
      "metadata": {
        "id": "nwGBd6By0qYV"
      }
    },
    {
      "cell_type": "code",
      "source": [
        "missing_values = df.isnull().sum()\n",
        "print(missing_values)"
      ],
      "metadata": {
        "id": "dAZwXwHQ0o_2",
        "outputId": "8946b3eb-7f75-47ca-80dd-2a170253540b",
        "colab": {
          "base_uri": "https://localhost:8080/"
        }
      },
      "execution_count": 97,
      "outputs": [
        {
          "output_type": "stream",
          "name": "stdout",
          "text": [
            "InvoiceNo           0\n",
            "StockCode           0\n",
            "Description      1454\n",
            "Quantity            0\n",
            "InvoiceDate         0\n",
            "UnitPrice           0\n",
            "CustomerID     135080\n",
            "Country             0\n",
            "dtype: int64\n"
          ]
        }
      ]
    },
    {
      "cell_type": "markdown",
      "source": [
        "Ci sono 135080 righe vuote nel campo customer id"
      ],
      "metadata": {
        "id": "az4si4Xh1Ee7"
      }
    },
    {
      "cell_type": "code",
      "source": [
        "tipi_colonne = df.dtypes\n",
        "print(tipi_colonne)\n"
      ],
      "metadata": {
        "id": "TI6p_Ovc1WIx",
        "outputId": "c5ecc1f2-dc99-495d-cd92-3809ce875e19",
        "colab": {
          "base_uri": "https://localhost:8080/"
        }
      },
      "execution_count": 98,
      "outputs": [
        {
          "output_type": "stream",
          "name": "stdout",
          "text": [
            "InvoiceNo       object\n",
            "StockCode       object\n",
            "Description     object\n",
            "Quantity         int64\n",
            "InvoiceDate     object\n",
            "UnitPrice      float64\n",
            "CustomerID      object\n",
            "Country         object\n",
            "dtype: object\n"
          ]
        }
      ]
    },
    {
      "cell_type": "markdown",
      "source": [
        "Mostro il numero di righe e colonne"
      ],
      "metadata": {
        "id": "7J4FnoL9143b"
      }
    },
    {
      "cell_type": "code",
      "source": [
        "# Calcola la nuova colonna\n",
        "df['TotalPrice'] = df['Quantity'] * df['UnitPrice']\n",
        "\n",
        "# Visualizza il DataFrame con la nuova colonna aggiunta\n",
        "print(df)"
      ],
      "metadata": {
        "id": "Sj426_9iby1E",
        "outputId": "fe938de3-87c6-4338-bafc-34bba62522e9",
        "colab": {
          "base_uri": "https://localhost:8080/"
        }
      },
      "execution_count": 99,
      "outputs": [
        {
          "output_type": "stream",
          "name": "stdout",
          "text": [
            "       InvoiceNo StockCode                          Description  Quantity  \\\n",
            "0         536365    85123A   WHITE HANGING HEART T-LIGHT HOLDER         6   \n",
            "1         536365     71053                  WHITE METAL LANTERN         6   \n",
            "2         536365    84406B       CREAM CUPID HEARTS COAT HANGER         8   \n",
            "3         536365    84029G  KNITTED UNION FLAG HOT WATER BOTTLE         6   \n",
            "4         536365    84029E       RED WOOLLY HOTTIE WHITE HEART.         6   \n",
            "...          ...       ...                                  ...       ...   \n",
            "541904    581587     22613          PACK OF 20 SPACEBOY NAPKINS        12   \n",
            "541905    581587     22899         CHILDREN'S APRON DOLLY GIRL          6   \n",
            "541906    581587     23254        CHILDRENS CUTLERY DOLLY GIRL          4   \n",
            "541907    581587     23255      CHILDRENS CUTLERY CIRCUS PARADE         4   \n",
            "541908    581587     22138        BAKING SET 9 PIECE RETROSPOT          3   \n",
            "\n",
            "            InvoiceDate  UnitPrice CustomerID         Country  TotalPrice  \n",
            "0        12/1/2010 8:26       2.55      17850  United Kingdom       15.30  \n",
            "1        12/1/2010 8:26       3.39      17850  United Kingdom       20.34  \n",
            "2        12/1/2010 8:26       2.75      17850  United Kingdom       22.00  \n",
            "3        12/1/2010 8:26       3.39      17850  United Kingdom       20.34  \n",
            "4        12/1/2010 8:26       3.39      17850  United Kingdom       20.34  \n",
            "...                 ...        ...        ...             ...         ...  \n",
            "541904  12/9/2011 12:50       0.85      12680          France       10.20  \n",
            "541905  12/9/2011 12:50       2.10      12680          France       12.60  \n",
            "541906  12/9/2011 12:50       4.15      12680          France       16.60  \n",
            "541907  12/9/2011 12:50       4.15      12680          France       16.60  \n",
            "541908  12/9/2011 12:50       4.95      12680          France       14.85  \n",
            "\n",
            "[541909 rows x 9 columns]\n"
          ]
        }
      ]
    },
    {
      "cell_type": "code",
      "source": [
        "num_rows, num_columns = df.shape\n",
        "print(f'Numero di righe: {num_rows}')\n",
        "print(f'Numero di colonne: {num_columns}')\n"
      ],
      "metadata": {
        "id": "93f2oYXk10VG",
        "outputId": "cc31aa90-3f81-46b0-cec5-c717a0b0a320",
        "colab": {
          "base_uri": "https://localhost:8080/"
        }
      },
      "execution_count": 100,
      "outputs": [
        {
          "output_type": "stream",
          "name": "stdout",
          "text": [
            "Numero di righe: 541909\n",
            "Numero di colonne: 9\n"
          ]
        }
      ]
    },
    {
      "cell_type": "code",
      "source": [
        "df.describe()"
      ],
      "metadata": {
        "id": "iuXXEdrx2BbO",
        "outputId": "510840ff-da83-43cd-fb46-219c7e0c2860",
        "colab": {
          "base_uri": "https://localhost:8080/",
          "height": 300
        }
      },
      "execution_count": 101,
      "outputs": [
        {
          "output_type": "execute_result",
          "data": {
            "text/plain": [
              "            Quantity      UnitPrice     TotalPrice\n",
              "count  541909.000000  541909.000000  541909.000000\n",
              "mean        9.552250       4.611114      17.987795\n",
              "std       218.081158      96.759853     378.810824\n",
              "min    -80995.000000  -11062.060000 -168469.600000\n",
              "25%         1.000000       1.250000       3.400000\n",
              "50%         3.000000       2.080000       9.750000\n",
              "75%        10.000000       4.130000      17.400000\n",
              "max     80995.000000   38970.000000  168469.600000"
            ],
            "text/html": [
              "\n",
              "  <div id=\"df-8fc99fb3-ca66-47a0-b0fb-58b07c373bc4\" class=\"colab-df-container\">\n",
              "    <div>\n",
              "<style scoped>\n",
              "    .dataframe tbody tr th:only-of-type {\n",
              "        vertical-align: middle;\n",
              "    }\n",
              "\n",
              "    .dataframe tbody tr th {\n",
              "        vertical-align: top;\n",
              "    }\n",
              "\n",
              "    .dataframe thead th {\n",
              "        text-align: right;\n",
              "    }\n",
              "</style>\n",
              "<table border=\"1\" class=\"dataframe\">\n",
              "  <thead>\n",
              "    <tr style=\"text-align: right;\">\n",
              "      <th></th>\n",
              "      <th>Quantity</th>\n",
              "      <th>UnitPrice</th>\n",
              "      <th>TotalPrice</th>\n",
              "    </tr>\n",
              "  </thead>\n",
              "  <tbody>\n",
              "    <tr>\n",
              "      <th>count</th>\n",
              "      <td>541909.000000</td>\n",
              "      <td>541909.000000</td>\n",
              "      <td>541909.000000</td>\n",
              "    </tr>\n",
              "    <tr>\n",
              "      <th>mean</th>\n",
              "      <td>9.552250</td>\n",
              "      <td>4.611114</td>\n",
              "      <td>17.987795</td>\n",
              "    </tr>\n",
              "    <tr>\n",
              "      <th>std</th>\n",
              "      <td>218.081158</td>\n",
              "      <td>96.759853</td>\n",
              "      <td>378.810824</td>\n",
              "    </tr>\n",
              "    <tr>\n",
              "      <th>min</th>\n",
              "      <td>-80995.000000</td>\n",
              "      <td>-11062.060000</td>\n",
              "      <td>-168469.600000</td>\n",
              "    </tr>\n",
              "    <tr>\n",
              "      <th>25%</th>\n",
              "      <td>1.000000</td>\n",
              "      <td>1.250000</td>\n",
              "      <td>3.400000</td>\n",
              "    </tr>\n",
              "    <tr>\n",
              "      <th>50%</th>\n",
              "      <td>3.000000</td>\n",
              "      <td>2.080000</td>\n",
              "      <td>9.750000</td>\n",
              "    </tr>\n",
              "    <tr>\n",
              "      <th>75%</th>\n",
              "      <td>10.000000</td>\n",
              "      <td>4.130000</td>\n",
              "      <td>17.400000</td>\n",
              "    </tr>\n",
              "    <tr>\n",
              "      <th>max</th>\n",
              "      <td>80995.000000</td>\n",
              "      <td>38970.000000</td>\n",
              "      <td>168469.600000</td>\n",
              "    </tr>\n",
              "  </tbody>\n",
              "</table>\n",
              "</div>\n",
              "    <div class=\"colab-df-buttons\">\n",
              "\n",
              "  <div class=\"colab-df-container\">\n",
              "    <button class=\"colab-df-convert\" onclick=\"convertToInteractive('df-8fc99fb3-ca66-47a0-b0fb-58b07c373bc4')\"\n",
              "            title=\"Convert this dataframe to an interactive table.\"\n",
              "            style=\"display:none;\">\n",
              "\n",
              "  <svg xmlns=\"http://www.w3.org/2000/svg\" height=\"24px\" viewBox=\"0 -960 960 960\">\n",
              "    <path d=\"M120-120v-720h720v720H120Zm60-500h600v-160H180v160Zm220 220h160v-160H400v160Zm0 220h160v-160H400v160ZM180-400h160v-160H180v160Zm440 0h160v-160H620v160ZM180-180h160v-160H180v160Zm440 0h160v-160H620v160Z\"/>\n",
              "  </svg>\n",
              "    </button>\n",
              "\n",
              "  <style>\n",
              "    .colab-df-container {\n",
              "      display:flex;\n",
              "      gap: 12px;\n",
              "    }\n",
              "\n",
              "    .colab-df-convert {\n",
              "      background-color: #E8F0FE;\n",
              "      border: none;\n",
              "      border-radius: 50%;\n",
              "      cursor: pointer;\n",
              "      display: none;\n",
              "      fill: #1967D2;\n",
              "      height: 32px;\n",
              "      padding: 0 0 0 0;\n",
              "      width: 32px;\n",
              "    }\n",
              "\n",
              "    .colab-df-convert:hover {\n",
              "      background-color: #E2EBFA;\n",
              "      box-shadow: 0px 1px 2px rgba(60, 64, 67, 0.3), 0px 1px 3px 1px rgba(60, 64, 67, 0.15);\n",
              "      fill: #174EA6;\n",
              "    }\n",
              "\n",
              "    .colab-df-buttons div {\n",
              "      margin-bottom: 4px;\n",
              "    }\n",
              "\n",
              "    [theme=dark] .colab-df-convert {\n",
              "      background-color: #3B4455;\n",
              "      fill: #D2E3FC;\n",
              "    }\n",
              "\n",
              "    [theme=dark] .colab-df-convert:hover {\n",
              "      background-color: #434B5C;\n",
              "      box-shadow: 0px 1px 3px 1px rgba(0, 0, 0, 0.15);\n",
              "      filter: drop-shadow(0px 1px 2px rgba(0, 0, 0, 0.3));\n",
              "      fill: #FFFFFF;\n",
              "    }\n",
              "  </style>\n",
              "\n",
              "    <script>\n",
              "      const buttonEl =\n",
              "        document.querySelector('#df-8fc99fb3-ca66-47a0-b0fb-58b07c373bc4 button.colab-df-convert');\n",
              "      buttonEl.style.display =\n",
              "        google.colab.kernel.accessAllowed ? 'block' : 'none';\n",
              "\n",
              "      async function convertToInteractive(key) {\n",
              "        const element = document.querySelector('#df-8fc99fb3-ca66-47a0-b0fb-58b07c373bc4');\n",
              "        const dataTable =\n",
              "          await google.colab.kernel.invokeFunction('convertToInteractive',\n",
              "                                                    [key], {});\n",
              "        if (!dataTable) return;\n",
              "\n",
              "        const docLinkHtml = 'Like what you see? Visit the ' +\n",
              "          '<a target=\"_blank\" href=https://colab.research.google.com/notebooks/data_table.ipynb>data table notebook</a>'\n",
              "          + ' to learn more about interactive tables.';\n",
              "        element.innerHTML = '';\n",
              "        dataTable['output_type'] = 'display_data';\n",
              "        await google.colab.output.renderOutput(dataTable, element);\n",
              "        const docLink = document.createElement('div');\n",
              "        docLink.innerHTML = docLinkHtml;\n",
              "        element.appendChild(docLink);\n",
              "      }\n",
              "    </script>\n",
              "  </div>\n",
              "\n",
              "\n",
              "<div id=\"df-3f55a566-bf51-4028-a2be-0808db0002a6\">\n",
              "  <button class=\"colab-df-quickchart\" onclick=\"quickchart('df-3f55a566-bf51-4028-a2be-0808db0002a6')\"\n",
              "            title=\"Suggest charts\"\n",
              "            style=\"display:none;\">\n",
              "\n",
              "<svg xmlns=\"http://www.w3.org/2000/svg\" height=\"24px\"viewBox=\"0 0 24 24\"\n",
              "     width=\"24px\">\n",
              "    <g>\n",
              "        <path d=\"M19 3H5c-1.1 0-2 .9-2 2v14c0 1.1.9 2 2 2h14c1.1 0 2-.9 2-2V5c0-1.1-.9-2-2-2zM9 17H7v-7h2v7zm4 0h-2V7h2v10zm4 0h-2v-4h2v4z\"/>\n",
              "    </g>\n",
              "</svg>\n",
              "  </button>\n",
              "\n",
              "<style>\n",
              "  .colab-df-quickchart {\n",
              "      --bg-color: #E8F0FE;\n",
              "      --fill-color: #1967D2;\n",
              "      --hover-bg-color: #E2EBFA;\n",
              "      --hover-fill-color: #174EA6;\n",
              "      --disabled-fill-color: #AAA;\n",
              "      --disabled-bg-color: #DDD;\n",
              "  }\n",
              "\n",
              "  [theme=dark] .colab-df-quickchart {\n",
              "      --bg-color: #3B4455;\n",
              "      --fill-color: #D2E3FC;\n",
              "      --hover-bg-color: #434B5C;\n",
              "      --hover-fill-color: #FFFFFF;\n",
              "      --disabled-bg-color: #3B4455;\n",
              "      --disabled-fill-color: #666;\n",
              "  }\n",
              "\n",
              "  .colab-df-quickchart {\n",
              "    background-color: var(--bg-color);\n",
              "    border: none;\n",
              "    border-radius: 50%;\n",
              "    cursor: pointer;\n",
              "    display: none;\n",
              "    fill: var(--fill-color);\n",
              "    height: 32px;\n",
              "    padding: 0;\n",
              "    width: 32px;\n",
              "  }\n",
              "\n",
              "  .colab-df-quickchart:hover {\n",
              "    background-color: var(--hover-bg-color);\n",
              "    box-shadow: 0 1px 2px rgba(60, 64, 67, 0.3), 0 1px 3px 1px rgba(60, 64, 67, 0.15);\n",
              "    fill: var(--button-hover-fill-color);\n",
              "  }\n",
              "\n",
              "  .colab-df-quickchart-complete:disabled,\n",
              "  .colab-df-quickchart-complete:disabled:hover {\n",
              "    background-color: var(--disabled-bg-color);\n",
              "    fill: var(--disabled-fill-color);\n",
              "    box-shadow: none;\n",
              "  }\n",
              "\n",
              "  .colab-df-spinner {\n",
              "    border: 2px solid var(--fill-color);\n",
              "    border-color: transparent;\n",
              "    border-bottom-color: var(--fill-color);\n",
              "    animation:\n",
              "      spin 1s steps(1) infinite;\n",
              "  }\n",
              "\n",
              "  @keyframes spin {\n",
              "    0% {\n",
              "      border-color: transparent;\n",
              "      border-bottom-color: var(--fill-color);\n",
              "      border-left-color: var(--fill-color);\n",
              "    }\n",
              "    20% {\n",
              "      border-color: transparent;\n",
              "      border-left-color: var(--fill-color);\n",
              "      border-top-color: var(--fill-color);\n",
              "    }\n",
              "    30% {\n",
              "      border-color: transparent;\n",
              "      border-left-color: var(--fill-color);\n",
              "      border-top-color: var(--fill-color);\n",
              "      border-right-color: var(--fill-color);\n",
              "    }\n",
              "    40% {\n",
              "      border-color: transparent;\n",
              "      border-right-color: var(--fill-color);\n",
              "      border-top-color: var(--fill-color);\n",
              "    }\n",
              "    60% {\n",
              "      border-color: transparent;\n",
              "      border-right-color: var(--fill-color);\n",
              "    }\n",
              "    80% {\n",
              "      border-color: transparent;\n",
              "      border-right-color: var(--fill-color);\n",
              "      border-bottom-color: var(--fill-color);\n",
              "    }\n",
              "    90% {\n",
              "      border-color: transparent;\n",
              "      border-bottom-color: var(--fill-color);\n",
              "    }\n",
              "  }\n",
              "</style>\n",
              "\n",
              "  <script>\n",
              "    async function quickchart(key) {\n",
              "      const quickchartButtonEl =\n",
              "        document.querySelector('#' + key + ' button');\n",
              "      quickchartButtonEl.disabled = true;  // To prevent multiple clicks.\n",
              "      quickchartButtonEl.classList.add('colab-df-spinner');\n",
              "      try {\n",
              "        const charts = await google.colab.kernel.invokeFunction(\n",
              "            'suggestCharts', [key], {});\n",
              "      } catch (error) {\n",
              "        console.error('Error during call to suggestCharts:', error);\n",
              "      }\n",
              "      quickchartButtonEl.classList.remove('colab-df-spinner');\n",
              "      quickchartButtonEl.classList.add('colab-df-quickchart-complete');\n",
              "    }\n",
              "    (() => {\n",
              "      let quickchartButtonEl =\n",
              "        document.querySelector('#df-3f55a566-bf51-4028-a2be-0808db0002a6 button');\n",
              "      quickchartButtonEl.style.display =\n",
              "        google.colab.kernel.accessAllowed ? 'block' : 'none';\n",
              "    })();\n",
              "  </script>\n",
              "</div>\n",
              "    </div>\n",
              "  </div>\n"
            ],
            "application/vnd.google.colaboratory.intrinsic+json": {
              "type": "dataframe",
              "summary": "{\n  \"name\": \"df\",\n  \"rows\": 8,\n  \"fields\": [\n    {\n      \"column\": \"Quantity\",\n      \"properties\": {\n        \"dtype\": \"number\",\n        \"std\": 196412.4226608867,\n        \"min\": -80995.0,\n        \"max\": 541909.0,\n        \"num_unique_values\": 8,\n        \"samples\": [\n          9.55224954743324,\n          3.0,\n          541909.0\n        ],\n        \"semantic_type\": \"\",\n        \"description\": \"\"\n      }\n    },\n    {\n      \"column\": \"UnitPrice\",\n      \"properties\": {\n        \"dtype\": \"number\",\n        \"std\": 190752.0757077193,\n        \"min\": -11062.06,\n        \"max\": 541909.0,\n        \"num_unique_values\": 8,\n        \"samples\": [\n          4.611113626088513,\n          2.08,\n          541909.0\n        ],\n        \"semantic_type\": \"\",\n        \"description\": \"\"\n      }\n    },\n    {\n      \"column\": \"TotalPrice\",\n      \"properties\": {\n        \"dtype\": \"number\",\n        \"std\": 211681.5098817808,\n        \"min\": -168469.6,\n        \"max\": 541909.0,\n        \"num_unique_values\": 8,\n        \"samples\": [\n          17.98779487699964,\n          9.75,\n          541909.0\n        ],\n        \"semantic_type\": \"\",\n        \"description\": \"\"\n      }\n    }\n  ]\n}"
            }
          },
          "metadata": {},
          "execution_count": 101
        }
      ]
    },
    {
      "cell_type": "markdown",
      "source": [
        "**I dati evidenziano la presenza di valori negativi per quantity e unit price**, la quantità minima di acquisto è -80995, il che potrebbe essere un'anomalia o un reso, mentre il prezzo unitario massimo è di 11062.\n",
        "\n",
        "- Analisi della distribuzione della quantità (\"Quantity\"):\n",
        "\n",
        "La media di 9.5 e la deviazione standard di 218.32 indicano una forte variabilità nei quantitativi acquistati\n",
        "\n",
        "- Analisi dei prezzi unitari (\"UnitPrice\"):\n",
        "\n",
        "**La media di 4.61 **e la deviazione standard di 114.62 mostrano una vasta gamma di prezzi unitari.\n",
        "\n",
        "L'individuazione dei prodotti con prezzi estremamente alti (max = 38970) potrebbe rivelare articoli di lusso o potenziali errori nei dati.\n",
        "\n",
        "- Analisi del comportamento dei clienti (\"CustomerID\"):\n",
        "\n",
        "La mancanza di dati per alcuni clienti potrebbe indicare transazioni effettuate da clienti non registrati o dati mancanti.\n",
        "\n",
        "L'analisi della distribuzione dei clienti in base alla frequenza e al valore degli acquisti potrebbe identificare segmenti di clientela distinti, utili per strategie di marketing mirate.\n",
        "\n",
        "- Esplorazione delle relazioni tra le variabili:\n",
        "\n",
        "Un'analisi della correlazione tra la quantità e il prezzo unitario potrebbe rivelare se esistono tendenze di acquisto basate sul prezzo.\n",
        "\n",
        "L'identificazione di cluster di clienti in base ai loro acquisti potrebbe suggerire comportamenti di acquisto simili o preferenze di prodotto comuni."
      ],
      "metadata": {
        "id": "Ykyzz7Vw2T-1"
      }
    },
    {
      "cell_type": "markdown",
      "source": [
        " **I isolate the null values in the 'Label' column and display their descriptive statistics as follows:**"
      ],
      "metadata": {
        "id": "UK_QaS7C7nKf"
      }
    },
    {
      "cell_type": "code",
      "source": [
        "null_df = df[df['CustomerID'].isnull()]\n",
        "null_df.describe()\n",
        "print(null_df.describe())\n"
      ],
      "metadata": {
        "id": "gjdBC9fv7JsG",
        "outputId": "c23eb766-7a28-474b-9cf3-db18f7e1c5ed",
        "colab": {
          "base_uri": "https://localhost:8080/"
        }
      },
      "execution_count": 102,
      "outputs": [
        {
          "output_type": "stream",
          "name": "stdout",
          "text": [
            "            Quantity      UnitPrice     TotalPrice\n",
            "count  135080.000000  135080.000000  135080.000000\n",
            "mean        1.995573       8.076577      10.717220\n",
            "std        66.696153     151.900816     157.967893\n",
            "min     -9600.000000  -11062.060000  -17836.460000\n",
            "25%         1.000000       1.630000       2.460000\n",
            "50%         1.000000       3.290000       4.960000\n",
            "75%         3.000000       5.450000      10.790000\n",
            "max      5568.000000   17836.460000   13541.330000\n"
          ]
        }
      ]
    },
    {
      "cell_type": "markdown",
      "source": [
        "I isolate the values with non-null labels and extract their descriptive statistical\n",
        "characteristics\n"
      ],
      "metadata": {
        "id": "aP753GjX8FB4"
      }
    },
    {
      "cell_type": "code",
      "source": [
        "not_null_values = df[~df['CustomerID'].isnull()]\n",
        "# Display summary stats of rows without null values\n",
        "not_null_values.describe()\n",
        "print(not_null_values.describe())\n"
      ],
      "metadata": {
        "id": "rqNS2Og38GU8",
        "outputId": "fa62f8c1-5c4f-419e-de74-4f36e9fa0f4d",
        "colab": {
          "base_uri": "https://localhost:8080/"
        }
      },
      "execution_count": 103,
      "outputs": [
        {
          "output_type": "stream",
          "name": "stdout",
          "text": [
            "            Quantity      UnitPrice     TotalPrice\n",
            "count  406829.000000  406829.000000  406829.000000\n",
            "mean       12.061303       3.460471      20.401854\n",
            "std       248.693370      69.315162     427.591718\n",
            "min    -80995.000000       0.000000 -168469.600000\n",
            "25%         2.000000       1.250000       4.200000\n",
            "50%         5.000000       1.950000      11.100000\n",
            "75%        12.000000       3.750000      19.500000\n",
            "max     80995.000000   38970.000000  168469.600000\n"
          ]
        }
      ]
    },
    {
      "cell_type": "markdown",
      "source": [
        "**Variabile Quantity:**\n",
        "\n",
        "La media della quantità nella prima tabella è 1.99, mentre nella seconda tabella è 8.07.\n",
        "La deviazione standard della quantità nella prima tabella è 66.931, mentre nella seconda tabella è 248.411.\n",
        "Variabile UnitPrice:\n",
        "\n",
        "La media dei prezzi unitari nella prima tabella è 8.294, mentre nella seconda tabella è 3.675.\n",
        "La deviazione standard dei prezzi unitari nella prima tabella è 164.271, mentre nella seconda tabella è 89.215.\n",
        "Dai confronti sopra riportati, sembra che ci siano differenze significative nelle medie e nelle deviazioni standard delle variabili \"Quantity\" e \"UnitPrice\" tra le due tabelle.\n",
        "\n",
        "E' evidente che ci sono delle differenze fra gli utenti con o senza customer id: gli utenti senza customer id comprano meno e comprano ad un prezzo sensibilmente piu' alto, questo è un possibile punto di analisi"
      ],
      "metadata": {
        "id": "M6SwJSvR88J0"
      }
    },
    {
      "cell_type": "markdown",
      "source": [
        " **I am checking for statistical significance **in the differences between the two groups highlighted earlier through the two tables, especially the variables null_df and not_null_values. To do this, I am using the difference between the mean and standard deviation in the two tables and performing the Student's t-test on the\n",
        "means:\n"
      ],
      "metadata": {
        "id": "w-nPzddp9DFk"
      }
    },
    {
      "cell_type": "code",
      "source": [
        "from scipy.stats import ttest_ind\n",
        "# Colonne di interesse\n",
        "colonne_di_interesse = ['Quantity', 'UnitPrice', \"TotalPrice\"]\n",
        "\n",
        "from scipy.stats import ttest_ind\n",
        "\n",
        "for colonna in colonne_di_interesse:\n",
        "    # Estraggo media e deviazione standard dai due DataFrame\n",
        "    media_not_null = not_null_values[colonna].mean()\n",
        "    std_not_null = not_null_values[colonna].std()\n",
        "    media_null = null_df[colonna].mean()\n",
        "    std_null = null_df[colonna].std()\n",
        "\n",
        "    # Calcolo la differenza nelle medie\n",
        "    diff_media = media_not_null - media_null\n",
        "\n",
        "    # Calcolo la differenza nelle deviazioni standard\n",
        "    diff_std = std_not_null - std_null\n",
        "\n",
        "    # Eseguo il test t di Student solo sulle medie\n",
        "    t_statistic, p_value = ttest_ind(not_null_values[colonna], null_df[colonna], nan_policy='omit')\n",
        "\n",
        "    # Visualizzo i risultati\n",
        "    print(f'Colonna: {colonna}')\n",
        "    print(f'Differenza nelle Medie: {diff_media}')\n",
        "    print(f'Differenza nelle Deviazioni Standard: {diff_std}')\n",
        "    print(f'T-Statistic (sulle Medie): {t_statistic}')\n",
        "    print(f'P-Value (sulle Medie): {p_value}')\n",
        "    print('\\n')\n",
        "\n"
      ],
      "metadata": {
        "id": "Ph7Ptt6wLqV0",
        "outputId": "430d09de-2835-4b82-da8b-10b0a1ae7ad4",
        "colab": {
          "base_uri": "https://localhost:8080/"
        }
      },
      "execution_count": 104,
      "outputs": [
        {
          "output_type": "stream",
          "name": "stdout",
          "text": [
            "Colonna: Quantity\n",
            "Differenza nelle Medie: 10.065730403960586\n",
            "Differenza nelle Deviazioni Standard: 181.99721734024183\n",
            "T-Statistic (sulle Medie): 14.701160893581088\n",
            "P-Value (sulle Medie): 6.475677485825383e-49\n",
            "\n",
            "\n",
            "Colonna: UnitPrice\n",
            "Differenza nelle Medie: -4.616105898846249\n",
            "Differenza nelle Deviazioni Standard: -82.58565455558109\n",
            "T-Statistic (sulle Medie): -15.195358892044718\n",
            "P-Value (sulle Medie): 3.891107383304532e-52\n",
            "\n",
            "\n",
            "Colonna: TotalPrice\n",
            "Differenza nelle Medie: 9.68463357066786\n",
            "Differenza nelle Deviazioni Standard: 269.62382498142654\n",
            "T-Statistic (sulle Medie): 8.141890748565892\n",
            "P-Value (sulle Medie): 3.8996567772686944e-16\n",
            "\n",
            "\n"
          ]
        }
      ]
    },
    {
      "cell_type": "markdown",
      "source": [
        " p-values are above 0.05, suggesting that there are no statistically\n",
        "significant differences in the means and standard deviations of the considered\n",
        "columns between the two groups."
      ],
      "metadata": {
        "id": "2PFwmv4jNNW9"
      }
    },
    {
      "cell_type": "markdown",
      "source": [
        "Decido di rimuovere le righe senza customer id in quanto non potranno aggiungere nessuna informazione al tentativo di clusterizzazione"
      ],
      "metadata": {
        "id": "4EbzX8pV46Hi"
      }
    },
    {
      "cell_type": "code",
      "source": [
        "senza_customerid = 135080/541909\n",
        "print(senza_customerid)"
      ],
      "metadata": {
        "id": "Iyq84OAK3QwO",
        "outputId": "e4059189-578e-4a40-e621-8ff79118fdde",
        "colab": {
          "base_uri": "https://localhost:8080/"
        }
      },
      "execution_count": 105,
      "outputs": [
        {
          "output_type": "stream",
          "name": "stdout",
          "text": [
            "0.249266943342886\n"
          ]
        }
      ]
    },
    {
      "cell_type": "markdown",
      "source": [
        "Circa il 25% delle transazioni è stato eseguito da utenti senza customerID. Dai dati emerge che le transazioni senza customer id sono di importo nettamente superiore ma la quantità è inferiore, si tratta probabilmente di utenti occasionali"
      ],
      "metadata": {
        "id": "RtKSS7Um60kF"
      }
    },
    {
      "cell_type": "markdown",
      "source": [
        "Dato che le righe senza customer id non hanno rilevanza statistica a causa del basso p-value provvedo ad eliminare le transazioni senza customer id in quanto non sono utili per clusterizzare i miei clienti e sono da trattare in sede separata"
      ],
      "metadata": {
        "id": "mfg717t5cOL3"
      }
    },
    {
      "cell_type": "code",
      "source": [
        "# Rimuovo le righe con valori nulli nella colonna 'CustomerID'\n",
        "df = df.dropna(subset=['CustomerID'])\n",
        "\n",
        "# Visualizzo il DataFrame senza righe con CustomerID nulli\n",
        "print(df)"
      ],
      "metadata": {
        "id": "Bb227RFqdZsP",
        "outputId": "9a983efe-c276-4780-cd0c-270a4b063d83",
        "colab": {
          "base_uri": "https://localhost:8080/"
        }
      },
      "execution_count": 106,
      "outputs": [
        {
          "output_type": "stream",
          "name": "stdout",
          "text": [
            "       InvoiceNo StockCode                          Description  Quantity  \\\n",
            "0         536365    85123A   WHITE HANGING HEART T-LIGHT HOLDER         6   \n",
            "1         536365     71053                  WHITE METAL LANTERN         6   \n",
            "2         536365    84406B       CREAM CUPID HEARTS COAT HANGER         8   \n",
            "3         536365    84029G  KNITTED UNION FLAG HOT WATER BOTTLE         6   \n",
            "4         536365    84029E       RED WOOLLY HOTTIE WHITE HEART.         6   \n",
            "...          ...       ...                                  ...       ...   \n",
            "541904    581587     22613          PACK OF 20 SPACEBOY NAPKINS        12   \n",
            "541905    581587     22899         CHILDREN'S APRON DOLLY GIRL          6   \n",
            "541906    581587     23254        CHILDRENS CUTLERY DOLLY GIRL          4   \n",
            "541907    581587     23255      CHILDRENS CUTLERY CIRCUS PARADE         4   \n",
            "541908    581587     22138        BAKING SET 9 PIECE RETROSPOT          3   \n",
            "\n",
            "            InvoiceDate  UnitPrice CustomerID         Country  TotalPrice  \n",
            "0        12/1/2010 8:26       2.55      17850  United Kingdom       15.30  \n",
            "1        12/1/2010 8:26       3.39      17850  United Kingdom       20.34  \n",
            "2        12/1/2010 8:26       2.75      17850  United Kingdom       22.00  \n",
            "3        12/1/2010 8:26       3.39      17850  United Kingdom       20.34  \n",
            "4        12/1/2010 8:26       3.39      17850  United Kingdom       20.34  \n",
            "...                 ...        ...        ...             ...         ...  \n",
            "541904  12/9/2011 12:50       0.85      12680          France       10.20  \n",
            "541905  12/9/2011 12:50       2.10      12680          France       12.60  \n",
            "541906  12/9/2011 12:50       4.15      12680          France       16.60  \n",
            "541907  12/9/2011 12:50       4.15      12680          France       16.60  \n",
            "541908  12/9/2011 12:50       4.95      12680          France       14.85  \n",
            "\n",
            "[406829 rows x 9 columns]\n"
          ]
        }
      ]
    },
    {
      "cell_type": "code",
      "source": [
        "# Rimuovo le righe con valori nulli nella colonna 'Description'\n",
        "df = df.dropna(subset=['Description'])"
      ],
      "metadata": {
        "id": "Qc8-gI6pvHlQ"
      },
      "execution_count": 107,
      "outputs": []
    },
    {
      "cell_type": "code",
      "source": [
        "# rimuovo le righe duplicate\n",
        "df = df.drop_duplicates()\n",
        "\n",
        "# Visualizza il DataFrame senza righe duplicate\n",
        "print(df)"
      ],
      "metadata": {
        "id": "w_V0tfwSgjjR",
        "outputId": "73b42a65-4c47-47f1-fe1d-4dc89e251625",
        "colab": {
          "base_uri": "https://localhost:8080/"
        }
      },
      "execution_count": 108,
      "outputs": [
        {
          "output_type": "stream",
          "name": "stdout",
          "text": [
            "       InvoiceNo StockCode                          Description  Quantity  \\\n",
            "0         536365    85123A   WHITE HANGING HEART T-LIGHT HOLDER         6   \n",
            "1         536365     71053                  WHITE METAL LANTERN         6   \n",
            "2         536365    84406B       CREAM CUPID HEARTS COAT HANGER         8   \n",
            "3         536365    84029G  KNITTED UNION FLAG HOT WATER BOTTLE         6   \n",
            "4         536365    84029E       RED WOOLLY HOTTIE WHITE HEART.         6   \n",
            "...          ...       ...                                  ...       ...   \n",
            "541904    581587     22613          PACK OF 20 SPACEBOY NAPKINS        12   \n",
            "541905    581587     22899         CHILDREN'S APRON DOLLY GIRL          6   \n",
            "541906    581587     23254        CHILDRENS CUTLERY DOLLY GIRL          4   \n",
            "541907    581587     23255      CHILDRENS CUTLERY CIRCUS PARADE         4   \n",
            "541908    581587     22138        BAKING SET 9 PIECE RETROSPOT          3   \n",
            "\n",
            "            InvoiceDate  UnitPrice CustomerID         Country  TotalPrice  \n",
            "0        12/1/2010 8:26       2.55      17850  United Kingdom       15.30  \n",
            "1        12/1/2010 8:26       3.39      17850  United Kingdom       20.34  \n",
            "2        12/1/2010 8:26       2.75      17850  United Kingdom       22.00  \n",
            "3        12/1/2010 8:26       3.39      17850  United Kingdom       20.34  \n",
            "4        12/1/2010 8:26       3.39      17850  United Kingdom       20.34  \n",
            "...                 ...        ...        ...             ...         ...  \n",
            "541904  12/9/2011 12:50       0.85      12680          France       10.20  \n",
            "541905  12/9/2011 12:50       2.10      12680          France       12.60  \n",
            "541906  12/9/2011 12:50       4.15      12680          France       16.60  \n",
            "541907  12/9/2011 12:50       4.15      12680          France       16.60  \n",
            "541908  12/9/2011 12:50       4.95      12680          France       14.85  \n",
            "\n",
            "[401604 rows x 9 columns]\n"
          ]
        }
      ]
    },
    {
      "cell_type": "code",
      "source": [
        "righe_duplicate = 406829-401604\n",
        "print(righe_duplicate)"
      ],
      "metadata": {
        "id": "UMCyZ3wkguRO",
        "outputId": "4f4093e3-5f91-488c-f9cf-e8ec74f27c59",
        "colab": {
          "base_uri": "https://localhost:8080/"
        }
      },
      "execution_count": 109,
      "outputs": [
        {
          "output_type": "stream",
          "name": "stdout",
          "text": [
            "5225\n"
          ]
        }
      ]
    },
    {
      "cell_type": "markdown",
      "source": [
        "Rimosse 5225 righe duplicate"
      ],
      "metadata": {
        "id": "viDcqyDCg6DF"
      }
    },
    {
      "cell_type": "code",
      "source": [
        "# Raggruppa le transazioni in base al paese\n",
        "transazioni_per_paese = df.groupby('Country')\n",
        "\n",
        "# Stampare il numero di transazioni per ciascun paese\n",
        "print(transazioni_per_paese.size())"
      ],
      "metadata": {
        "id": "JZE1Y2Dc7Yyx",
        "outputId": "fa608964-85df-46f7-a3f0-7133720a14a7",
        "colab": {
          "base_uri": "https://localhost:8080/"
        }
      },
      "execution_count": 110,
      "outputs": [
        {
          "output_type": "stream",
          "name": "stdout",
          "text": [
            "Country\n",
            "Australia                 1258\n",
            "Austria                    401\n",
            "Bahrain                     17\n",
            "Belgium                   2069\n",
            "Brazil                      32\n",
            "Canada                     151\n",
            "Channel Islands            757\n",
            "Cyprus                     611\n",
            "Czech Republic              30\n",
            "Denmark                    389\n",
            "EIRE                      7475\n",
            "European Community          61\n",
            "Finland                    695\n",
            "France                    8475\n",
            "Germany                   9480\n",
            "Greece                     146\n",
            "Iceland                    182\n",
            "Israel                     247\n",
            "Italy                      803\n",
            "Japan                      358\n",
            "Lebanon                     45\n",
            "Lithuania                   35\n",
            "Malta                      127\n",
            "Netherlands               2371\n",
            "Norway                    1086\n",
            "Poland                     341\n",
            "Portugal                  1471\n",
            "RSA                         58\n",
            "Saudi Arabia                10\n",
            "Singapore                  229\n",
            "Spain                     2528\n",
            "Sweden                     461\n",
            "Switzerland               1877\n",
            "USA                        291\n",
            "United Arab Emirates        68\n",
            "United Kingdom          356728\n",
            "Unspecified                241\n",
            "dtype: int64\n"
          ]
        }
      ]
    },
    {
      "cell_type": "markdown",
      "source": [
        "Uk, Germany and France sono i paesi piu' importanti per numero di ordini"
      ],
      "metadata": {
        "id": "aFTDH1Ssi31S"
      }
    },
    {
      "cell_type": "code",
      "source": [
        "# Importa le librerie necessarie\n",
        "import plotly.express as px\n",
        "import pandas as pd\n",
        "\n",
        "# Crea un DataFrame con i dati forniti\n",
        "data = {\n",
        "    'Country': ['Australia', 'Austria', 'Bahrain', 'Belgium', 'Brazil', 'Canada', 'Channel Islands', 'Cyprus', 'Czech Republic', 'Denmark', 'EIRE', 'European Community', 'Finland', 'France', 'Germany', 'Greece', 'Iceland', 'Israel', 'Italy', 'Japan', 'Lebanon', 'Lithuania', 'Malta', 'Netherlands', 'Norway', 'Poland', 'Portugal', 'RSA', 'Saudi Arabia', 'Singapore', 'Spain', 'Sweden', 'Switzerland', 'USA', 'United Arab Emirates', 'United Kingdom', 'Unspecified'],\n",
        "    'Transactions': [1258, 401, 17, 2069, 32, 151, 757, 611, 30, 389, 7475, 61, 695, 8475, 9480, 146, 182, 247, 803, 358, 45, 35, 127, 2371, 1086, 341, 1471, 58, 10, 229, 2528, 461, 1877, 291, 68, 356728, 241]\n",
        "}\n",
        "\n",
        "df1 = pd.DataFrame(data)\n",
        "\n",
        "# Plotta la mappa mondiale utilizzando Plotly Express\n",
        "fig = px.choropleth(df1, locations='Country', locationmode='country names', color='Transactions',\n",
        "                    color_continuous_scale=px.colors.sequential.Blues,\n",
        "                    title='Numero di Transazioni per Paese')\n",
        "fig.update_layout(geo=dict(showframe=False, showcoastlines=False, projection_type='equirectangular'))\n",
        "fig.show()\n",
        "\n"
      ],
      "metadata": {
        "id": "Fu1RhqeMjZew",
        "outputId": "8d2c7e6c-4b13-45b8-ce27-71685ec590f7",
        "colab": {
          "base_uri": "https://localhost:8080/",
          "height": 542
        }
      },
      "execution_count": 111,
      "outputs": [
        {
          "output_type": "display_data",
          "data": {
            "text/html": [
              "<html>\n",
              "<head><meta charset=\"utf-8\" /></head>\n",
              "<body>\n",
              "    <div>            <script src=\"https://cdnjs.cloudflare.com/ajax/libs/mathjax/2.7.5/MathJax.js?config=TeX-AMS-MML_SVG\"></script><script type=\"text/javascript\">if (window.MathJax && window.MathJax.Hub && window.MathJax.Hub.Config) {window.MathJax.Hub.Config({SVG: {font: \"STIX-Web\"}});}</script>                <script type=\"text/javascript\">window.PlotlyConfig = {MathJaxConfig: 'local'};</script>\n",
              "        <script charset=\"utf-8\" src=\"https://cdn.plot.ly/plotly-2.24.1.min.js\"></script>                <div id=\"ed594ef5-4079-4dd0-818c-b21582f38a5d\" class=\"plotly-graph-div\" style=\"height:525px; width:100%;\"></div>            <script type=\"text/javascript\">                                    window.PLOTLYENV=window.PLOTLYENV || {};                                    if (document.getElementById(\"ed594ef5-4079-4dd0-818c-b21582f38a5d\")) {                    Plotly.newPlot(                        \"ed594ef5-4079-4dd0-818c-b21582f38a5d\",                        [{\"coloraxis\":\"coloraxis\",\"geo\":\"geo\",\"hovertemplate\":\"Country=%{location}\\u003cbr\\u003eTransactions=%{z}\\u003cextra\\u003e\\u003c\\u002fextra\\u003e\",\"locationmode\":\"country names\",\"locations\":[\"Australia\",\"Austria\",\"Bahrain\",\"Belgium\",\"Brazil\",\"Canada\",\"Channel Islands\",\"Cyprus\",\"Czech Republic\",\"Denmark\",\"EIRE\",\"European Community\",\"Finland\",\"France\",\"Germany\",\"Greece\",\"Iceland\",\"Israel\",\"Italy\",\"Japan\",\"Lebanon\",\"Lithuania\",\"Malta\",\"Netherlands\",\"Norway\",\"Poland\",\"Portugal\",\"RSA\",\"Saudi Arabia\",\"Singapore\",\"Spain\",\"Sweden\",\"Switzerland\",\"USA\",\"United Arab Emirates\",\"United Kingdom\",\"Unspecified\"],\"name\":\"\",\"z\":[1258,401,17,2069,32,151,757,611,30,389,7475,61,695,8475,9480,146,182,247,803,358,45,35,127,2371,1086,341,1471,58,10,229,2528,461,1877,291,68,356728,241],\"type\":\"choropleth\"}],                        {\"template\":{\"data\":{\"histogram2dcontour\":[{\"type\":\"histogram2dcontour\",\"colorbar\":{\"outlinewidth\":0,\"ticks\":\"\"},\"colorscale\":[[0.0,\"#0d0887\"],[0.1111111111111111,\"#46039f\"],[0.2222222222222222,\"#7201a8\"],[0.3333333333333333,\"#9c179e\"],[0.4444444444444444,\"#bd3786\"],[0.5555555555555556,\"#d8576b\"],[0.6666666666666666,\"#ed7953\"],[0.7777777777777778,\"#fb9f3a\"],[0.8888888888888888,\"#fdca26\"],[1.0,\"#f0f921\"]]}],\"choropleth\":[{\"type\":\"choropleth\",\"colorbar\":{\"outlinewidth\":0,\"ticks\":\"\"}}],\"histogram2d\":[{\"type\":\"histogram2d\",\"colorbar\":{\"outlinewidth\":0,\"ticks\":\"\"},\"colorscale\":[[0.0,\"#0d0887\"],[0.1111111111111111,\"#46039f\"],[0.2222222222222222,\"#7201a8\"],[0.3333333333333333,\"#9c179e\"],[0.4444444444444444,\"#bd3786\"],[0.5555555555555556,\"#d8576b\"],[0.6666666666666666,\"#ed7953\"],[0.7777777777777778,\"#fb9f3a\"],[0.8888888888888888,\"#fdca26\"],[1.0,\"#f0f921\"]]}],\"heatmap\":[{\"type\":\"heatmap\",\"colorbar\":{\"outlinewidth\":0,\"ticks\":\"\"},\"colorscale\":[[0.0,\"#0d0887\"],[0.1111111111111111,\"#46039f\"],[0.2222222222222222,\"#7201a8\"],[0.3333333333333333,\"#9c179e\"],[0.4444444444444444,\"#bd3786\"],[0.5555555555555556,\"#d8576b\"],[0.6666666666666666,\"#ed7953\"],[0.7777777777777778,\"#fb9f3a\"],[0.8888888888888888,\"#fdca26\"],[1.0,\"#f0f921\"]]}],\"heatmapgl\":[{\"type\":\"heatmapgl\",\"colorbar\":{\"outlinewidth\":0,\"ticks\":\"\"},\"colorscale\":[[0.0,\"#0d0887\"],[0.1111111111111111,\"#46039f\"],[0.2222222222222222,\"#7201a8\"],[0.3333333333333333,\"#9c179e\"],[0.4444444444444444,\"#bd3786\"],[0.5555555555555556,\"#d8576b\"],[0.6666666666666666,\"#ed7953\"],[0.7777777777777778,\"#fb9f3a\"],[0.8888888888888888,\"#fdca26\"],[1.0,\"#f0f921\"]]}],\"contourcarpet\":[{\"type\":\"contourcarpet\",\"colorbar\":{\"outlinewidth\":0,\"ticks\":\"\"}}],\"contour\":[{\"type\":\"contour\",\"colorbar\":{\"outlinewidth\":0,\"ticks\":\"\"},\"colorscale\":[[0.0,\"#0d0887\"],[0.1111111111111111,\"#46039f\"],[0.2222222222222222,\"#7201a8\"],[0.3333333333333333,\"#9c179e\"],[0.4444444444444444,\"#bd3786\"],[0.5555555555555556,\"#d8576b\"],[0.6666666666666666,\"#ed7953\"],[0.7777777777777778,\"#fb9f3a\"],[0.8888888888888888,\"#fdca26\"],[1.0,\"#f0f921\"]]}],\"surface\":[{\"type\":\"surface\",\"colorbar\":{\"outlinewidth\":0,\"ticks\":\"\"},\"colorscale\":[[0.0,\"#0d0887\"],[0.1111111111111111,\"#46039f\"],[0.2222222222222222,\"#7201a8\"],[0.3333333333333333,\"#9c179e\"],[0.4444444444444444,\"#bd3786\"],[0.5555555555555556,\"#d8576b\"],[0.6666666666666666,\"#ed7953\"],[0.7777777777777778,\"#fb9f3a\"],[0.8888888888888888,\"#fdca26\"],[1.0,\"#f0f921\"]]}],\"mesh3d\":[{\"type\":\"mesh3d\",\"colorbar\":{\"outlinewidth\":0,\"ticks\":\"\"}}],\"scatter\":[{\"fillpattern\":{\"fillmode\":\"overlay\",\"size\":10,\"solidity\":0.2},\"type\":\"scatter\"}],\"parcoords\":[{\"type\":\"parcoords\",\"line\":{\"colorbar\":{\"outlinewidth\":0,\"ticks\":\"\"}}}],\"scatterpolargl\":[{\"type\":\"scatterpolargl\",\"marker\":{\"colorbar\":{\"outlinewidth\":0,\"ticks\":\"\"}}}],\"bar\":[{\"error_x\":{\"color\":\"#2a3f5f\"},\"error_y\":{\"color\":\"#2a3f5f\"},\"marker\":{\"line\":{\"color\":\"#E5ECF6\",\"width\":0.5},\"pattern\":{\"fillmode\":\"overlay\",\"size\":10,\"solidity\":0.2}},\"type\":\"bar\"}],\"scattergeo\":[{\"type\":\"scattergeo\",\"marker\":{\"colorbar\":{\"outlinewidth\":0,\"ticks\":\"\"}}}],\"scatterpolar\":[{\"type\":\"scatterpolar\",\"marker\":{\"colorbar\":{\"outlinewidth\":0,\"ticks\":\"\"}}}],\"histogram\":[{\"marker\":{\"pattern\":{\"fillmode\":\"overlay\",\"size\":10,\"solidity\":0.2}},\"type\":\"histogram\"}],\"scattergl\":[{\"type\":\"scattergl\",\"marker\":{\"colorbar\":{\"outlinewidth\":0,\"ticks\":\"\"}}}],\"scatter3d\":[{\"type\":\"scatter3d\",\"line\":{\"colorbar\":{\"outlinewidth\":0,\"ticks\":\"\"}},\"marker\":{\"colorbar\":{\"outlinewidth\":0,\"ticks\":\"\"}}}],\"scattermapbox\":[{\"type\":\"scattermapbox\",\"marker\":{\"colorbar\":{\"outlinewidth\":0,\"ticks\":\"\"}}}],\"scatterternary\":[{\"type\":\"scatterternary\",\"marker\":{\"colorbar\":{\"outlinewidth\":0,\"ticks\":\"\"}}}],\"scattercarpet\":[{\"type\":\"scattercarpet\",\"marker\":{\"colorbar\":{\"outlinewidth\":0,\"ticks\":\"\"}}}],\"carpet\":[{\"aaxis\":{\"endlinecolor\":\"#2a3f5f\",\"gridcolor\":\"white\",\"linecolor\":\"white\",\"minorgridcolor\":\"white\",\"startlinecolor\":\"#2a3f5f\"},\"baxis\":{\"endlinecolor\":\"#2a3f5f\",\"gridcolor\":\"white\",\"linecolor\":\"white\",\"minorgridcolor\":\"white\",\"startlinecolor\":\"#2a3f5f\"},\"type\":\"carpet\"}],\"table\":[{\"cells\":{\"fill\":{\"color\":\"#EBF0F8\"},\"line\":{\"color\":\"white\"}},\"header\":{\"fill\":{\"color\":\"#C8D4E3\"},\"line\":{\"color\":\"white\"}},\"type\":\"table\"}],\"barpolar\":[{\"marker\":{\"line\":{\"color\":\"#E5ECF6\",\"width\":0.5},\"pattern\":{\"fillmode\":\"overlay\",\"size\":10,\"solidity\":0.2}},\"type\":\"barpolar\"}],\"pie\":[{\"automargin\":true,\"type\":\"pie\"}]},\"layout\":{\"autotypenumbers\":\"strict\",\"colorway\":[\"#636efa\",\"#EF553B\",\"#00cc96\",\"#ab63fa\",\"#FFA15A\",\"#19d3f3\",\"#FF6692\",\"#B6E880\",\"#FF97FF\",\"#FECB52\"],\"font\":{\"color\":\"#2a3f5f\"},\"hovermode\":\"closest\",\"hoverlabel\":{\"align\":\"left\"},\"paper_bgcolor\":\"white\",\"plot_bgcolor\":\"#E5ECF6\",\"polar\":{\"bgcolor\":\"#E5ECF6\",\"angularaxis\":{\"gridcolor\":\"white\",\"linecolor\":\"white\",\"ticks\":\"\"},\"radialaxis\":{\"gridcolor\":\"white\",\"linecolor\":\"white\",\"ticks\":\"\"}},\"ternary\":{\"bgcolor\":\"#E5ECF6\",\"aaxis\":{\"gridcolor\":\"white\",\"linecolor\":\"white\",\"ticks\":\"\"},\"baxis\":{\"gridcolor\":\"white\",\"linecolor\":\"white\",\"ticks\":\"\"},\"caxis\":{\"gridcolor\":\"white\",\"linecolor\":\"white\",\"ticks\":\"\"}},\"coloraxis\":{\"colorbar\":{\"outlinewidth\":0,\"ticks\":\"\"}},\"colorscale\":{\"sequential\":[[0.0,\"#0d0887\"],[0.1111111111111111,\"#46039f\"],[0.2222222222222222,\"#7201a8\"],[0.3333333333333333,\"#9c179e\"],[0.4444444444444444,\"#bd3786\"],[0.5555555555555556,\"#d8576b\"],[0.6666666666666666,\"#ed7953\"],[0.7777777777777778,\"#fb9f3a\"],[0.8888888888888888,\"#fdca26\"],[1.0,\"#f0f921\"]],\"sequentialminus\":[[0.0,\"#0d0887\"],[0.1111111111111111,\"#46039f\"],[0.2222222222222222,\"#7201a8\"],[0.3333333333333333,\"#9c179e\"],[0.4444444444444444,\"#bd3786\"],[0.5555555555555556,\"#d8576b\"],[0.6666666666666666,\"#ed7953\"],[0.7777777777777778,\"#fb9f3a\"],[0.8888888888888888,\"#fdca26\"],[1.0,\"#f0f921\"]],\"diverging\":[[0,\"#8e0152\"],[0.1,\"#c51b7d\"],[0.2,\"#de77ae\"],[0.3,\"#f1b6da\"],[0.4,\"#fde0ef\"],[0.5,\"#f7f7f7\"],[0.6,\"#e6f5d0\"],[0.7,\"#b8e186\"],[0.8,\"#7fbc41\"],[0.9,\"#4d9221\"],[1,\"#276419\"]]},\"xaxis\":{\"gridcolor\":\"white\",\"linecolor\":\"white\",\"ticks\":\"\",\"title\":{\"standoff\":15},\"zerolinecolor\":\"white\",\"automargin\":true,\"zerolinewidth\":2},\"yaxis\":{\"gridcolor\":\"white\",\"linecolor\":\"white\",\"ticks\":\"\",\"title\":{\"standoff\":15},\"zerolinecolor\":\"white\",\"automargin\":true,\"zerolinewidth\":2},\"scene\":{\"xaxis\":{\"backgroundcolor\":\"#E5ECF6\",\"gridcolor\":\"white\",\"linecolor\":\"white\",\"showbackground\":true,\"ticks\":\"\",\"zerolinecolor\":\"white\",\"gridwidth\":2},\"yaxis\":{\"backgroundcolor\":\"#E5ECF6\",\"gridcolor\":\"white\",\"linecolor\":\"white\",\"showbackground\":true,\"ticks\":\"\",\"zerolinecolor\":\"white\",\"gridwidth\":2},\"zaxis\":{\"backgroundcolor\":\"#E5ECF6\",\"gridcolor\":\"white\",\"linecolor\":\"white\",\"showbackground\":true,\"ticks\":\"\",\"zerolinecolor\":\"white\",\"gridwidth\":2}},\"shapedefaults\":{\"line\":{\"color\":\"#2a3f5f\"}},\"annotationdefaults\":{\"arrowcolor\":\"#2a3f5f\",\"arrowhead\":0,\"arrowwidth\":1},\"geo\":{\"bgcolor\":\"white\",\"landcolor\":\"#E5ECF6\",\"subunitcolor\":\"white\",\"showland\":true,\"showlakes\":true,\"lakecolor\":\"white\"},\"title\":{\"x\":0.05},\"mapbox\":{\"style\":\"light\"}}},\"geo\":{\"domain\":{\"x\":[0.0,1.0],\"y\":[0.0,1.0]},\"center\":{},\"projection\":{\"type\":\"equirectangular\"},\"showframe\":false,\"showcoastlines\":false},\"coloraxis\":{\"colorbar\":{\"title\":{\"text\":\"Transactions\"}},\"colorscale\":[[0.0,\"rgb(247,251,255)\"],[0.125,\"rgb(222,235,247)\"],[0.25,\"rgb(198,219,239)\"],[0.375,\"rgb(158,202,225)\"],[0.5,\"rgb(107,174,214)\"],[0.625,\"rgb(66,146,198)\"],[0.75,\"rgb(33,113,181)\"],[0.875,\"rgb(8,81,156)\"],[1.0,\"rgb(8,48,107)\"]]},\"legend\":{\"tracegroupgap\":0},\"title\":{\"text\":\"Numero di Transazioni per Paese\"}},                        {\"responsive\": true}                    ).then(function(){\n",
              "                            \n",
              "var gd = document.getElementById('ed594ef5-4079-4dd0-818c-b21582f38a5d');\n",
              "var x = new MutationObserver(function (mutations, observer) {{\n",
              "        var display = window.getComputedStyle(gd).display;\n",
              "        if (!display || display === 'none') {{\n",
              "            console.log([gd, 'removed!']);\n",
              "            Plotly.purge(gd);\n",
              "            observer.disconnect();\n",
              "        }}\n",
              "}});\n",
              "\n",
              "// Listen for the removal of the full notebook cells\n",
              "var notebookContainer = gd.closest('#notebook-container');\n",
              "if (notebookContainer) {{\n",
              "    x.observe(notebookContainer, {childList: true});\n",
              "}}\n",
              "\n",
              "// Listen for the clearing of the current output cell\n",
              "var outputEl = gd.closest('.output');\n",
              "if (outputEl) {{\n",
              "    x.observe(outputEl, {childList: true});\n",
              "}}\n",
              "\n",
              "                        })                };                            </script>        </div>\n",
              "</body>\n",
              "</html>"
            ]
          },
          "metadata": {}
        }
      ]
    },
    {
      "cell_type": "code",
      "source": [
        "\n",
        "\n",
        "print(df.columns)"
      ],
      "metadata": {
        "id": "wSarZPSHz-bT",
        "outputId": "fbce6468-8672-4d8a-adf9-3b8f71f96d5b",
        "colab": {
          "base_uri": "https://localhost:8080/"
        }
      },
      "execution_count": 112,
      "outputs": [
        {
          "output_type": "stream",
          "name": "stdout",
          "text": [
            "Index(['InvoiceNo', 'StockCode', 'Description', 'Quantity', 'InvoiceDate',\n",
            "       'UnitPrice', 'CustomerID', 'Country', 'TotalPrice'],\n",
            "      dtype='object')\n"
          ]
        }
      ]
    },
    {
      "cell_type": "code",
      "source": [
        "# Raggruppa per paese e somma gli importi totali degli ordini\n",
        "totali_per_paese = df.groupby('Country')['TotalPrice'].sum().reset_index()\n",
        "\n",
        "# Stampa la tabella\n",
        "print(totali_per_paese)\n"
      ],
      "metadata": {
        "id": "EDLvvEjN77il",
        "outputId": "6d053203-1fb9-49eb-fae6-d56d873fe4d5",
        "colab": {
          "base_uri": "https://localhost:8080/"
        }
      },
      "execution_count": 113,
      "outputs": [
        {
          "output_type": "stream",
          "name": "stdout",
          "text": [
            "                 Country   TotalPrice\n",
            "0              Australia   137009.770\n",
            "1                Austria    10154.320\n",
            "2                Bahrain      548.400\n",
            "3                Belgium    40910.960\n",
            "4                 Brazil     1143.600\n",
            "5                 Canada     3666.380\n",
            "6        Channel Islands    20076.390\n",
            "7                 Cyprus    12858.760\n",
            "8         Czech Republic      707.720\n",
            "9                Denmark    18768.140\n",
            "10                  EIRE   250001.780\n",
            "11    European Community     1291.750\n",
            "12               Finland    22326.740\n",
            "13                France   196626.050\n",
            "14               Germany   221509.470\n",
            "15                Greece     4710.520\n",
            "16               Iceland     4310.000\n",
            "17                Israel     6988.400\n",
            "18                 Italy    16890.510\n",
            "19                 Japan    35340.620\n",
            "20               Lebanon     1693.880\n",
            "21             Lithuania     1661.060\n",
            "22                 Malta     2505.470\n",
            "23           Netherlands   284661.540\n",
            "24                Norway    35163.460\n",
            "25                Poland     7213.140\n",
            "26              Portugal    28995.760\n",
            "27                   RSA     1002.310\n",
            "28          Saudi Arabia      131.170\n",
            "29             Singapore     9120.390\n",
            "30                 Spain    54756.030\n",
            "31                Sweden    36585.410\n",
            "32           Switzerland    55739.400\n",
            "33                   USA     1730.920\n",
            "34  United Arab Emirates     1902.280\n",
            "35        United Kingdom  6747156.154\n",
            "36           Unspecified     2660.770\n"
          ]
        }
      ]
    },
    {
      "cell_type": "markdown",
      "source": [
        "In termini di importo complessivo lo Uk resta di gran lunga il primo paese seguito a grande distanza da Olanda ed Irlanda"
      ],
      "metadata": {
        "id": "ww0oG7gJ_eHm"
      }
    },
    {
      "cell_type": "markdown",
      "source": [
        "Plotto il fatturato complessivo per paese secondo la tabella precedente"
      ],
      "metadata": {
        "id": "yHBkgzqJB9Jh"
      }
    },
    {
      "cell_type": "code",
      "source": [
        "import plotly.express as px\n",
        "\n",
        "# Dati\n",
        "data = {\n",
        "    'Country': ['Australia', 'Austria', 'Bahrain', 'Belgium', 'Brazil', 'Canada', 'Channel Islands', 'Cyprus', 'Czech Republic', 'Denmark', 'EIRE', 'European Community', 'Finland', 'France', 'Germany', 'Greece', 'Iceland', 'Israel', 'Italy', 'Japan', 'Lebanon', 'Lithuania', 'Malta', 'Netherlands', 'Norway', 'Poland', 'Portugal', 'RSA', 'Saudi Arabia', 'Singapore', 'Spain', 'Sweden', 'Switzerland', 'USA', 'United Arab Emirates', 'United Kingdom', 'Unspecified'],\n",
        "    'TotalPrice': [137009.770, 10154.320, 548.400, 40910.960, 1143.600, 3666.380, 20076.390, 12858.760, 707.720, 18768.140, 250001.780, 1291.750, 22326.740, 196626.050, 221509.470, 4710.520, 4310.000, 6988.400, 16890.510, 35340.620, 1693.880, 1661.060, 2505.470, 284661.540, 35163.460, 7213.140, 28995.760, 1002.310, 131.170, 9120.390, 54756.030, 36585.410, 55739.400, 1730.920, 1902.280, 6747156.154, 2660.770]\n",
        "}\n",
        "\n",
        "# Creare un dataframe Plotly Express\n",
        "df2 = pd.DataFrame(data)\n",
        "\n",
        "# Creare una mappa con Plotly Express\n",
        "fig = px.choropleth(df2, locations='Country', locationmode='country names', color='TotalPrice',\n",
        "                    hover_name='Country', color_continuous_scale='Blues',\n",
        "                    title='Total Turn-over by Country')\n",
        "\n",
        "# Mostrare la mappa\n",
        "fig.show()\n",
        "\n"
      ],
      "metadata": {
        "id": "SisqJDSC9way",
        "outputId": "ff33556c-6bdd-4ea2-de6c-88e6329511a1",
        "colab": {
          "base_uri": "https://localhost:8080/",
          "height": 542
        }
      },
      "execution_count": 114,
      "outputs": [
        {
          "output_type": "display_data",
          "data": {
            "text/html": [
              "<html>\n",
              "<head><meta charset=\"utf-8\" /></head>\n",
              "<body>\n",
              "    <div>            <script src=\"https://cdnjs.cloudflare.com/ajax/libs/mathjax/2.7.5/MathJax.js?config=TeX-AMS-MML_SVG\"></script><script type=\"text/javascript\">if (window.MathJax && window.MathJax.Hub && window.MathJax.Hub.Config) {window.MathJax.Hub.Config({SVG: {font: \"STIX-Web\"}});}</script>                <script type=\"text/javascript\">window.PlotlyConfig = {MathJaxConfig: 'local'};</script>\n",
              "        <script charset=\"utf-8\" src=\"https://cdn.plot.ly/plotly-2.24.1.min.js\"></script>                <div id=\"ad45a2c5-8233-4739-8d80-d8d151197b27\" class=\"plotly-graph-div\" style=\"height:525px; width:100%;\"></div>            <script type=\"text/javascript\">                                    window.PLOTLYENV=window.PLOTLYENV || {};                                    if (document.getElementById(\"ad45a2c5-8233-4739-8d80-d8d151197b27\")) {                    Plotly.newPlot(                        \"ad45a2c5-8233-4739-8d80-d8d151197b27\",                        [{\"coloraxis\":\"coloraxis\",\"geo\":\"geo\",\"hovertemplate\":\"\\u003cb\\u003e%{hovertext}\\u003c\\u002fb\\u003e\\u003cbr\\u003e\\u003cbr\\u003eCountry=%{location}\\u003cbr\\u003eTotalPrice=%{z}\\u003cextra\\u003e\\u003c\\u002fextra\\u003e\",\"hovertext\":[\"Australia\",\"Austria\",\"Bahrain\",\"Belgium\",\"Brazil\",\"Canada\",\"Channel Islands\",\"Cyprus\",\"Czech Republic\",\"Denmark\",\"EIRE\",\"European Community\",\"Finland\",\"France\",\"Germany\",\"Greece\",\"Iceland\",\"Israel\",\"Italy\",\"Japan\",\"Lebanon\",\"Lithuania\",\"Malta\",\"Netherlands\",\"Norway\",\"Poland\",\"Portugal\",\"RSA\",\"Saudi Arabia\",\"Singapore\",\"Spain\",\"Sweden\",\"Switzerland\",\"USA\",\"United Arab Emirates\",\"United Kingdom\",\"Unspecified\"],\"locationmode\":\"country names\",\"locations\":[\"Australia\",\"Austria\",\"Bahrain\",\"Belgium\",\"Brazil\",\"Canada\",\"Channel Islands\",\"Cyprus\",\"Czech Republic\",\"Denmark\",\"EIRE\",\"European Community\",\"Finland\",\"France\",\"Germany\",\"Greece\",\"Iceland\",\"Israel\",\"Italy\",\"Japan\",\"Lebanon\",\"Lithuania\",\"Malta\",\"Netherlands\",\"Norway\",\"Poland\",\"Portugal\",\"RSA\",\"Saudi Arabia\",\"Singapore\",\"Spain\",\"Sweden\",\"Switzerland\",\"USA\",\"United Arab Emirates\",\"United Kingdom\",\"Unspecified\"],\"name\":\"\",\"z\":[137009.77,10154.32,548.4,40910.96,1143.6,3666.38,20076.39,12858.76,707.72,18768.14,250001.78,1291.75,22326.74,196626.05,221509.47,4710.52,4310.0,6988.4,16890.51,35340.62,1693.88,1661.06,2505.47,284661.54,35163.46,7213.14,28995.76,1002.31,131.17,9120.39,54756.03,36585.41,55739.4,1730.92,1902.28,6747156.154,2660.77],\"type\":\"choropleth\"}],                        {\"template\":{\"data\":{\"histogram2dcontour\":[{\"type\":\"histogram2dcontour\",\"colorbar\":{\"outlinewidth\":0,\"ticks\":\"\"},\"colorscale\":[[0.0,\"#0d0887\"],[0.1111111111111111,\"#46039f\"],[0.2222222222222222,\"#7201a8\"],[0.3333333333333333,\"#9c179e\"],[0.4444444444444444,\"#bd3786\"],[0.5555555555555556,\"#d8576b\"],[0.6666666666666666,\"#ed7953\"],[0.7777777777777778,\"#fb9f3a\"],[0.8888888888888888,\"#fdca26\"],[1.0,\"#f0f921\"]]}],\"choropleth\":[{\"type\":\"choropleth\",\"colorbar\":{\"outlinewidth\":0,\"ticks\":\"\"}}],\"histogram2d\":[{\"type\":\"histogram2d\",\"colorbar\":{\"outlinewidth\":0,\"ticks\":\"\"},\"colorscale\":[[0.0,\"#0d0887\"],[0.1111111111111111,\"#46039f\"],[0.2222222222222222,\"#7201a8\"],[0.3333333333333333,\"#9c179e\"],[0.4444444444444444,\"#bd3786\"],[0.5555555555555556,\"#d8576b\"],[0.6666666666666666,\"#ed7953\"],[0.7777777777777778,\"#fb9f3a\"],[0.8888888888888888,\"#fdca26\"],[1.0,\"#f0f921\"]]}],\"heatmap\":[{\"type\":\"heatmap\",\"colorbar\":{\"outlinewidth\":0,\"ticks\":\"\"},\"colorscale\":[[0.0,\"#0d0887\"],[0.1111111111111111,\"#46039f\"],[0.2222222222222222,\"#7201a8\"],[0.3333333333333333,\"#9c179e\"],[0.4444444444444444,\"#bd3786\"],[0.5555555555555556,\"#d8576b\"],[0.6666666666666666,\"#ed7953\"],[0.7777777777777778,\"#fb9f3a\"],[0.8888888888888888,\"#fdca26\"],[1.0,\"#f0f921\"]]}],\"heatmapgl\":[{\"type\":\"heatmapgl\",\"colorbar\":{\"outlinewidth\":0,\"ticks\":\"\"},\"colorscale\":[[0.0,\"#0d0887\"],[0.1111111111111111,\"#46039f\"],[0.2222222222222222,\"#7201a8\"],[0.3333333333333333,\"#9c179e\"],[0.4444444444444444,\"#bd3786\"],[0.5555555555555556,\"#d8576b\"],[0.6666666666666666,\"#ed7953\"],[0.7777777777777778,\"#fb9f3a\"],[0.8888888888888888,\"#fdca26\"],[1.0,\"#f0f921\"]]}],\"contourcarpet\":[{\"type\":\"contourcarpet\",\"colorbar\":{\"outlinewidth\":0,\"ticks\":\"\"}}],\"contour\":[{\"type\":\"contour\",\"colorbar\":{\"outlinewidth\":0,\"ticks\":\"\"},\"colorscale\":[[0.0,\"#0d0887\"],[0.1111111111111111,\"#46039f\"],[0.2222222222222222,\"#7201a8\"],[0.3333333333333333,\"#9c179e\"],[0.4444444444444444,\"#bd3786\"],[0.5555555555555556,\"#d8576b\"],[0.6666666666666666,\"#ed7953\"],[0.7777777777777778,\"#fb9f3a\"],[0.8888888888888888,\"#fdca26\"],[1.0,\"#f0f921\"]]}],\"surface\":[{\"type\":\"surface\",\"colorbar\":{\"outlinewidth\":0,\"ticks\":\"\"},\"colorscale\":[[0.0,\"#0d0887\"],[0.1111111111111111,\"#46039f\"],[0.2222222222222222,\"#7201a8\"],[0.3333333333333333,\"#9c179e\"],[0.4444444444444444,\"#bd3786\"],[0.5555555555555556,\"#d8576b\"],[0.6666666666666666,\"#ed7953\"],[0.7777777777777778,\"#fb9f3a\"],[0.8888888888888888,\"#fdca26\"],[1.0,\"#f0f921\"]]}],\"mesh3d\":[{\"type\":\"mesh3d\",\"colorbar\":{\"outlinewidth\":0,\"ticks\":\"\"}}],\"scatter\":[{\"fillpattern\":{\"fillmode\":\"overlay\",\"size\":10,\"solidity\":0.2},\"type\":\"scatter\"}],\"parcoords\":[{\"type\":\"parcoords\",\"line\":{\"colorbar\":{\"outlinewidth\":0,\"ticks\":\"\"}}}],\"scatterpolargl\":[{\"type\":\"scatterpolargl\",\"marker\":{\"colorbar\":{\"outlinewidth\":0,\"ticks\":\"\"}}}],\"bar\":[{\"error_x\":{\"color\":\"#2a3f5f\"},\"error_y\":{\"color\":\"#2a3f5f\"},\"marker\":{\"line\":{\"color\":\"#E5ECF6\",\"width\":0.5},\"pattern\":{\"fillmode\":\"overlay\",\"size\":10,\"solidity\":0.2}},\"type\":\"bar\"}],\"scattergeo\":[{\"type\":\"scattergeo\",\"marker\":{\"colorbar\":{\"outlinewidth\":0,\"ticks\":\"\"}}}],\"scatterpolar\":[{\"type\":\"scatterpolar\",\"marker\":{\"colorbar\":{\"outlinewidth\":0,\"ticks\":\"\"}}}],\"histogram\":[{\"marker\":{\"pattern\":{\"fillmode\":\"overlay\",\"size\":10,\"solidity\":0.2}},\"type\":\"histogram\"}],\"scattergl\":[{\"type\":\"scattergl\",\"marker\":{\"colorbar\":{\"outlinewidth\":0,\"ticks\":\"\"}}}],\"scatter3d\":[{\"type\":\"scatter3d\",\"line\":{\"colorbar\":{\"outlinewidth\":0,\"ticks\":\"\"}},\"marker\":{\"colorbar\":{\"outlinewidth\":0,\"ticks\":\"\"}}}],\"scattermapbox\":[{\"type\":\"scattermapbox\",\"marker\":{\"colorbar\":{\"outlinewidth\":0,\"ticks\":\"\"}}}],\"scatterternary\":[{\"type\":\"scatterternary\",\"marker\":{\"colorbar\":{\"outlinewidth\":0,\"ticks\":\"\"}}}],\"scattercarpet\":[{\"type\":\"scattercarpet\",\"marker\":{\"colorbar\":{\"outlinewidth\":0,\"ticks\":\"\"}}}],\"carpet\":[{\"aaxis\":{\"endlinecolor\":\"#2a3f5f\",\"gridcolor\":\"white\",\"linecolor\":\"white\",\"minorgridcolor\":\"white\",\"startlinecolor\":\"#2a3f5f\"},\"baxis\":{\"endlinecolor\":\"#2a3f5f\",\"gridcolor\":\"white\",\"linecolor\":\"white\",\"minorgridcolor\":\"white\",\"startlinecolor\":\"#2a3f5f\"},\"type\":\"carpet\"}],\"table\":[{\"cells\":{\"fill\":{\"color\":\"#EBF0F8\"},\"line\":{\"color\":\"white\"}},\"header\":{\"fill\":{\"color\":\"#C8D4E3\"},\"line\":{\"color\":\"white\"}},\"type\":\"table\"}],\"barpolar\":[{\"marker\":{\"line\":{\"color\":\"#E5ECF6\",\"width\":0.5},\"pattern\":{\"fillmode\":\"overlay\",\"size\":10,\"solidity\":0.2}},\"type\":\"barpolar\"}],\"pie\":[{\"automargin\":true,\"type\":\"pie\"}]},\"layout\":{\"autotypenumbers\":\"strict\",\"colorway\":[\"#636efa\",\"#EF553B\",\"#00cc96\",\"#ab63fa\",\"#FFA15A\",\"#19d3f3\",\"#FF6692\",\"#B6E880\",\"#FF97FF\",\"#FECB52\"],\"font\":{\"color\":\"#2a3f5f\"},\"hovermode\":\"closest\",\"hoverlabel\":{\"align\":\"left\"},\"paper_bgcolor\":\"white\",\"plot_bgcolor\":\"#E5ECF6\",\"polar\":{\"bgcolor\":\"#E5ECF6\",\"angularaxis\":{\"gridcolor\":\"white\",\"linecolor\":\"white\",\"ticks\":\"\"},\"radialaxis\":{\"gridcolor\":\"white\",\"linecolor\":\"white\",\"ticks\":\"\"}},\"ternary\":{\"bgcolor\":\"#E5ECF6\",\"aaxis\":{\"gridcolor\":\"white\",\"linecolor\":\"white\",\"ticks\":\"\"},\"baxis\":{\"gridcolor\":\"white\",\"linecolor\":\"white\",\"ticks\":\"\"},\"caxis\":{\"gridcolor\":\"white\",\"linecolor\":\"white\",\"ticks\":\"\"}},\"coloraxis\":{\"colorbar\":{\"outlinewidth\":0,\"ticks\":\"\"}},\"colorscale\":{\"sequential\":[[0.0,\"#0d0887\"],[0.1111111111111111,\"#46039f\"],[0.2222222222222222,\"#7201a8\"],[0.3333333333333333,\"#9c179e\"],[0.4444444444444444,\"#bd3786\"],[0.5555555555555556,\"#d8576b\"],[0.6666666666666666,\"#ed7953\"],[0.7777777777777778,\"#fb9f3a\"],[0.8888888888888888,\"#fdca26\"],[1.0,\"#f0f921\"]],\"sequentialminus\":[[0.0,\"#0d0887\"],[0.1111111111111111,\"#46039f\"],[0.2222222222222222,\"#7201a8\"],[0.3333333333333333,\"#9c179e\"],[0.4444444444444444,\"#bd3786\"],[0.5555555555555556,\"#d8576b\"],[0.6666666666666666,\"#ed7953\"],[0.7777777777777778,\"#fb9f3a\"],[0.8888888888888888,\"#fdca26\"],[1.0,\"#f0f921\"]],\"diverging\":[[0,\"#8e0152\"],[0.1,\"#c51b7d\"],[0.2,\"#de77ae\"],[0.3,\"#f1b6da\"],[0.4,\"#fde0ef\"],[0.5,\"#f7f7f7\"],[0.6,\"#e6f5d0\"],[0.7,\"#b8e186\"],[0.8,\"#7fbc41\"],[0.9,\"#4d9221\"],[1,\"#276419\"]]},\"xaxis\":{\"gridcolor\":\"white\",\"linecolor\":\"white\",\"ticks\":\"\",\"title\":{\"standoff\":15},\"zerolinecolor\":\"white\",\"automargin\":true,\"zerolinewidth\":2},\"yaxis\":{\"gridcolor\":\"white\",\"linecolor\":\"white\",\"ticks\":\"\",\"title\":{\"standoff\":15},\"zerolinecolor\":\"white\",\"automargin\":true,\"zerolinewidth\":2},\"scene\":{\"xaxis\":{\"backgroundcolor\":\"#E5ECF6\",\"gridcolor\":\"white\",\"linecolor\":\"white\",\"showbackground\":true,\"ticks\":\"\",\"zerolinecolor\":\"white\",\"gridwidth\":2},\"yaxis\":{\"backgroundcolor\":\"#E5ECF6\",\"gridcolor\":\"white\",\"linecolor\":\"white\",\"showbackground\":true,\"ticks\":\"\",\"zerolinecolor\":\"white\",\"gridwidth\":2},\"zaxis\":{\"backgroundcolor\":\"#E5ECF6\",\"gridcolor\":\"white\",\"linecolor\":\"white\",\"showbackground\":true,\"ticks\":\"\",\"zerolinecolor\":\"white\",\"gridwidth\":2}},\"shapedefaults\":{\"line\":{\"color\":\"#2a3f5f\"}},\"annotationdefaults\":{\"arrowcolor\":\"#2a3f5f\",\"arrowhead\":0,\"arrowwidth\":1},\"geo\":{\"bgcolor\":\"white\",\"landcolor\":\"#E5ECF6\",\"subunitcolor\":\"white\",\"showland\":true,\"showlakes\":true,\"lakecolor\":\"white\"},\"title\":{\"x\":0.05},\"mapbox\":{\"style\":\"light\"}}},\"geo\":{\"domain\":{\"x\":[0.0,1.0],\"y\":[0.0,1.0]},\"center\":{}},\"coloraxis\":{\"colorbar\":{\"title\":{\"text\":\"TotalPrice\"}},\"colorscale\":[[0.0,\"rgb(247,251,255)\"],[0.125,\"rgb(222,235,247)\"],[0.25,\"rgb(198,219,239)\"],[0.375,\"rgb(158,202,225)\"],[0.5,\"rgb(107,174,214)\"],[0.625,\"rgb(66,146,198)\"],[0.75,\"rgb(33,113,181)\"],[0.875,\"rgb(8,81,156)\"],[1.0,\"rgb(8,48,107)\"]]},\"legend\":{\"tracegroupgap\":0},\"title\":{\"text\":\"Total Turn-over by Country\"}},                        {\"responsive\": true}                    ).then(function(){\n",
              "                            \n",
              "var gd = document.getElementById('ad45a2c5-8233-4739-8d80-d8d151197b27');\n",
              "var x = new MutationObserver(function (mutations, observer) {{\n",
              "        var display = window.getComputedStyle(gd).display;\n",
              "        if (!display || display === 'none') {{\n",
              "            console.log([gd, 'removed!']);\n",
              "            Plotly.purge(gd);\n",
              "            observer.disconnect();\n",
              "        }}\n",
              "}});\n",
              "\n",
              "// Listen for the removal of the full notebook cells\n",
              "var notebookContainer = gd.closest('#notebook-container');\n",
              "if (notebookContainer) {{\n",
              "    x.observe(notebookContainer, {childList: true});\n",
              "}}\n",
              "\n",
              "// Listen for the clearing of the current output cell\n",
              "var outputEl = gd.closest('.output');\n",
              "if (outputEl) {{\n",
              "    x.observe(outputEl, {childList: true});\n",
              "}}\n",
              "\n",
              "                        })                };                            </script>        </div>\n",
              "</body>\n",
              "</html>"
            ]
          },
          "metadata": {}
        }
      ]
    },
    {
      "cell_type": "code",
      "source": [
        "print(df.columns)"
      ],
      "metadata": {
        "id": "1I9r3MuBD9pi",
        "outputId": "e6710474-aba4-47e5-83b1-021688fea684",
        "colab": {
          "base_uri": "https://localhost:8080/"
        }
      },
      "execution_count": 115,
      "outputs": [
        {
          "output_type": "stream",
          "name": "stdout",
          "text": [
            "Index(['InvoiceNo', 'StockCode', 'Description', 'Quantity', 'InvoiceDate',\n",
            "       'UnitPrice', 'CustomerID', 'Country', 'TotalPrice'],\n",
            "      dtype='object')\n"
          ]
        }
      ]
    },
    {
      "cell_type": "code",
      "source": [
        "import pandas as pd\n",
        "\n",
        "# Filtra il DataFrame per escludere le fatture con importo negativo\n",
        "df_positive_total_price = df[df['TotalPrice'] > 0]\n",
        "\n",
        "# Raggruppa il DataFrame filtrato per 'Country' e 'InvoiceNo', quindi calcola l'importo medio di ogni fattura per paese\n",
        "average_invoice_per_country = df_positive_total_price.groupby(['Country', 'InvoiceNo'])['TotalPrice'].mean().reset_index()\n",
        "\n",
        "# Raggruppa il DataFrame risultante per 'Country' e calcola l'importo medio delle fatture per paese\n",
        "average_invoice_per_country = average_invoice_per_country.groupby('Country')['TotalPrice'].mean().reset_index()\n",
        "\n",
        "# Rinomina la colonna dell'importo medio\n",
        "average_invoice_per_country = average_invoice_per_country.rename(columns={'TotalPrice': 'AverageInvoicePrice'})\n",
        "\n",
        "# Visualizza il nuovo DataFrame\n",
        "print(average_invoice_per_country)\n",
        "\n",
        "\n"
      ],
      "metadata": {
        "colab": {
          "base_uri": "https://localhost:8080/"
        },
        "id": "58r64U0DFMcg",
        "outputId": "13abb57f-42d6-4c22-dce5-d2d0309a5dfd"
      },
      "execution_count": 116,
      "outputs": [
        {
          "output_type": "stream",
          "name": "stdout",
          "text": [
            "                 Country  AverageInvoicePrice\n",
            "0              Australia           128.526786\n",
            "1                Austria            35.432370\n",
            "2                Bahrain            28.794231\n",
            "3                Belgium            22.014117\n",
            "4                 Brazil            35.737500\n",
            "5                 Canada           190.985239\n",
            "6        Channel Islands            62.037738\n",
            "7                 Cyprus            62.299323\n",
            "8         Czech Republic            32.182667\n",
            "9                Denmark            58.481364\n",
            "10                  EIRE            64.850720\n",
            "11    European Community            26.527246\n",
            "12               Finland            69.631678\n",
            "13                France            53.198905\n",
            "14               Germany            34.659501\n",
            "15                Greece            31.381168\n",
            "16               Iceland            23.096997\n",
            "17                Israel            28.410571\n",
            "18                 Italy            31.647994\n",
            "19                 Japan           552.153526\n",
            "20               Lebanon            37.641778\n",
            "21             Lithuania            44.638100\n",
            "22                 Malta            30.472035\n",
            "23           Netherlands           193.389816\n",
            "24                Norway            54.358895\n",
            "25                Poland            24.983564\n",
            "26              Portugal            95.798044\n",
            "27                   RSA            17.584386\n",
            "28          Saudi Arabia            16.213333\n",
            "29             Singapore           893.976277\n",
            "30                 Spain            50.140686\n",
            "31                Sweden           109.465470\n",
            "32           Switzerland            49.288006\n",
            "33                   USA            23.483787\n",
            "34  United Arab Emirates            31.169093\n",
            "35        United Kingdom            66.225067\n",
            "36           Unspecified            16.998042\n"
          ]
        }
      ]
    },
    {
      "cell_type": "markdown",
      "source": [
        "Creo una singola riga contenente il numero totale di prodotti distinti, transazioni e clienti nel DataFrame"
      ],
      "metadata": {
        "id": "p3qadC5cEpVo"
      }
    },
    {
      "cell_type": "code",
      "source": [
        "import pandas as pd\n",
        "\n",
        "# Calcola il numero totale di prodotti distinti, transazioni e clienti\n",
        "data = [{\n",
        "    'products': len(df['StockCode'].value_counts()),\n",
        "    'Invoices': len(df['InvoiceNo'].value_counts()),\n",
        "    'customers': len(df['CustomerID'].value_counts())\n",
        "}]\n",
        "\n",
        "# Crea il DataFrame\n",
        "summary_df = pd.DataFrame(data, columns=['products', 'Invoices', 'customers'], index=['quantity'])\n",
        "\n",
        "# Visualizza il DataFrame\n",
        "print(summary_df)\n"
      ],
      "metadata": {
        "id": "7GSMUtBVCZZI",
        "outputId": "8ddb5880-1d11-4241-877e-3283c8d5a034",
        "colab": {
          "base_uri": "https://localhost:8080/"
        }
      },
      "execution_count": 117,
      "outputs": [
        {
          "output_type": "stream",
          "name": "stdout",
          "text": [
            "          products  Invoices  customers\n",
            "quantity      3684     22190       4372\n"
          ]
        }
      ]
    },
    {
      "cell_type": "markdown",
      "source": [
        "Raggruppo per numero di fattura e Customer ID, e poi sommo per quantity e Total price. Emerge chiaramente la presenza di fatture cancellate ed emerge ovviamente la presenza di clienti altospendenti e basso spendenti"
      ],
      "metadata": {
        "id": "bjhFf_FBEmEX"
      }
    },
    {
      "cell_type": "code",
      "source": [
        "# Raggruppa per numero di fattura e ordino per Customer ID, e poi esegui l'aggregazione\n",
        "grouped = df.groupby(['InvoiceNo', 'CustomerID']).agg({\n",
        "    'Quantity': 'sum',\n",
        "    'TotalPrice': 'sum'\n",
        "}).reset_index()\n",
        "\n",
        "# Escludi le fatture con importo negativo\n",
        "grouped_positive = grouped[grouped['TotalPrice'] > 0]\n",
        "\n",
        "# Ordina per Customer ID\n",
        "grouped.sort_values(by='CustomerID', inplace=True)\n",
        "\n",
        "# Visualizza il DataFrame risultante\n",
        "print(grouped_positive)"
      ],
      "metadata": {
        "id": "9EUHzTGy8LkA",
        "outputId": "ab3488b8-d2f9-4928-a627-e5753d02acb7",
        "colab": {
          "base_uri": "https://localhost:8080/"
        }
      },
      "execution_count": 118,
      "outputs": [
        {
          "output_type": "stream",
          "name": "stdout",
          "text": [
            "      InvoiceNo CustomerID  Quantity  TotalPrice\n",
            "0        536365      17850        40      139.12\n",
            "1        536366      17850        12       22.20\n",
            "2        536367      13047        83      278.73\n",
            "3        536368      13047        15       70.05\n",
            "4        536369      13047         3       17.85\n",
            "...         ...        ...       ...         ...\n",
            "18531    581583      13777        76      124.60\n",
            "18532    581584      13777       120      140.64\n",
            "18533    581585      15804       278      329.05\n",
            "18534    581586      13113        66      339.20\n",
            "18535    581587      12680       105      249.45\n",
            "\n",
            "[18532 rows x 4 columns]\n"
          ]
        }
      ]
    },
    {
      "cell_type": "code",
      "source": [
        "df.columns"
      ],
      "metadata": {
        "colab": {
          "base_uri": "https://localhost:8080/"
        },
        "id": "ZPrENvB4EM8V",
        "outputId": "ceceb3eb-6884-415f-a623-00b3393e0265"
      },
      "execution_count": 119,
      "outputs": [
        {
          "output_type": "execute_result",
          "data": {
            "text/plain": [
              "Index(['InvoiceNo', 'StockCode', 'Description', 'Quantity', 'InvoiceDate',\n",
              "       'UnitPrice', 'CustomerID', 'Country', 'TotalPrice'],\n",
              "      dtype='object')"
            ]
          },
          "metadata": {},
          "execution_count": 119
        }
      ]
    },
    {
      "cell_type": "markdown",
      "source": [
        "Ripartizione degli ordini per importo delle fatture, tengo in considerazione solo quelle con importo positivo ed escludo le fatture negative:\n",
        "\n",
        "\n"
      ],
      "metadata": {
        "id": "fQjX8w5VmZo-"
      }
    },
    {
      "cell_type": "code",
      "source": [
        "# Escludi le fatture con importo negativo\n",
        "grouped_positive = grouped[grouped['TotalPrice'] > 0]\n",
        "\n",
        "# Definisci gli intervalli di importo\n",
        "intervals = [(0, 50), (50, 100), (100, 200), (200, 500), (500, 1000), (1000, 5000), (5000, float('inf'))]\n",
        "\n",
        "# Funzione per classificare le fatture in base all'importo totale\n",
        "def classify_total_price(total_price):\n",
        "    for i, interval in enumerate(intervals):\n",
        "        if interval[0] <= total_price < interval[1]:\n",
        "            return f'Range_{i+1}'\n",
        "    return 'Over_5000'\n",
        "\n",
        "# Applica la funzione alla colonna 'TotalPrice' per creare una nuova colonna 'PriceCategory'\n",
        "grouped_positive['PriceCategory'] = grouped_positive['TotalPrice'].apply(classify_total_price)\n",
        "\n",
        "# Visualizza il DataFrame risultante\n",
        "print(grouped_positive)"
      ],
      "metadata": {
        "id": "Y-JqAor8oTbf",
        "outputId": "060f2fc0-cab4-4757-b78e-692985c69392",
        "colab": {
          "base_uri": "https://localhost:8080/"
        }
      },
      "execution_count": 120,
      "outputs": [
        {
          "output_type": "stream",
          "name": "stdout",
          "text": [
            "      InvoiceNo CustomerID  Quantity  TotalPrice PriceCategory\n",
            "1909     541431      12346     74215    77183.60       Range_7\n",
            "2205     542237      12347       315      475.39       Range_4\n",
            "10173    562032      12347       277      584.91       Range_5\n",
            "548      537626      12347       319      711.79       Range_5\n",
            "7844     556201      12347       196      382.52       Range_4\n",
            "...         ...        ...       ...         ...           ...\n",
            "8040     556731      18283        52      103.72       Range_3\n",
            "2054     541854      18283        66      105.30       Range_3\n",
            "13860    570715      18287       990     1001.32       Range_6\n",
            "14889    573167      18287       108       70.68       Range_2\n",
            "6974     554065      18287       488      765.28       Range_5\n",
            "\n",
            "[18532 rows x 5 columns]\n"
          ]
        },
        {
          "output_type": "stream",
          "name": "stderr",
          "text": [
            "<ipython-input-120-9f95ac64fb04>:15: SettingWithCopyWarning:\n",
            "\n",
            "\n",
            "A value is trying to be set on a copy of a slice from a DataFrame.\n",
            "Try using .loc[row_indexer,col_indexer] = value instead\n",
            "\n",
            "See the caveats in the documentation: https://pandas.pydata.org/pandas-docs/stable/user_guide/indexing.html#returning-a-view-versus-a-copy\n",
            "\n"
          ]
        }
      ]
    },
    {
      "cell_type": "code",
      "source": [
        "import matplotlib.pyplot as plt\n",
        "\n",
        "# Conta il numero di fatture in ciascuna categoria di importo\n",
        "price_counts = grouped_positive['PriceCategory'].value_counts()\n",
        "\n",
        "# Crea il grafico a torta\n",
        "plt.figure(figsize=(8, 8))\n",
        "plt.pie(price_counts, labels=price_counts.index, autopct='%1.1f%%', startangle=140)\n",
        "\n",
        "# Aggiungi la legenda personalizzata con l'importo dei range\n",
        "importo_range = ['0-50', '50-100', '100-200', '200-500', '500-1000', '1000-5000', '5000+']\n",
        "plt.legend(importo_range, title=\"Importo dei Range\", loc=\"best\", bbox_to_anchor=(1, 0, 0.5, 1))\n",
        "\n",
        "plt.title('Distribuzione delle fatture per categoria di importo')\n",
        "plt.axis('equal')  # Assicura che il grafico a torta sia circolare\n",
        "plt.show()"
      ],
      "metadata": {
        "id": "eknBqFN9uKyH",
        "outputId": "00f94478-52c5-43dd-ecc8-4eb37b7a92cf",
        "colab": {
          "base_uri": "https://localhost:8080/",
          "height": 675
        }
      },
      "execution_count": 121,
      "outputs": [
        {
          "output_type": "display_data",
          "data": {
            "text/plain": [
              "<Figure size 800x800 with 1 Axes>"
            ],
            "image/png": "[encoded data removed]"
          },
          "metadata": {}
        }
      ]
    },
    {
      "cell_type": "code",
      "source": [
        "import matplotlib.pyplot as plt\n",
        "import seaborn as sns\n",
        "\n",
        "plt.figure(figsize=(7, 2))\n",
        "ax = sns.boxplot(x=df['TotalPrice'])\n",
        "plt.title('TotalPrice Boxplot')\n",
        "plt.show()\n"
      ],
      "metadata": {
        "id": "-K7ADr9dSFah",
        "outputId": "7f3b56a3-7101-4595-d479-8647a9d17a3f",
        "colab": {
          "base_uri": "https://localhost:8080/",
          "height": 256
        }
      },
      "execution_count": 122,
      "outputs": [
        {
          "output_type": "display_data",
          "data": {
            "text/plain": [
              "<Figure size 700x200 with 1 Axes>"
            ],
            "image/png": "[encoded data removed]"
          },
          "metadata": {}
        }
      ]
    },
    {
      "cell_type": "markdown",
      "source": [
        "Le fatture negative sono state rimosse, è necessario rimuovere quelle positivile di uguale importo in quanto si tratta evidentemente di errori"
      ],
      "metadata": {
        "id": "ZTyc4JfnxKYp"
      }
    },
    {
      "cell_type": "markdown",
      "source": [
        "# **Ordini cancellati** - Cercherò di elminare gli ordini cancellati in quanto rappresentano delle ripetizioni e quindi inquinano i dati: quanti sono gli ordini cancellati?\n",
        "\n",
        "\n",
        "\n"
      ],
      "metadata": {
        "id": "4yy8aroN-tuq"
      }
    },
    {
      "cell_type": "code",
      "source": [
        "cancellations = grouped[grouped['InvoiceNo'].str.startswith('C')]\n",
        "purchases = grouped[~grouped['InvoiceNo'].str.startswith('C')]\n",
        "\n",
        "\n",
        "print(cancellations)\n",
        "print(purchases)"
      ],
      "metadata": {
        "id": "O0nXhknrQ0dm",
        "outputId": "eeb7d4f8-600b-40fb-ec75-7c9158428144",
        "colab": {
          "base_uri": "https://localhost:8080/"
        }
      },
      "execution_count": 123,
      "outputs": [
        {
          "output_type": "stream",
          "name": "stdout",
          "text": [
            "      InvoiceNo CustomerID  Quantity  TotalPrice\n",
            "18958   C541433      12346    -74215   -77183.60\n",
            "19509   C547388      12352       -63     -120.33\n",
            "19299   C545329      12352        -2     -463.80\n",
            "19300   C545330      12352        -1     -376.50\n",
            "22094   C580165      12359        -6      -91.25\n",
            "...         ...        ...       ...         ...\n",
            "21942   C577832      18274       -88     -175.92\n",
            "21906   C577386      18276        -1       -6.25\n",
            "21909   C577390      18276        -1       -6.25\n",
            "19017   C542086      18277        -1      -12.75\n",
            "20777   C562808      18282        -5       -1.45\n",
            "\n",
            "[3654 rows x 4 columns]\n",
            "      InvoiceNo CustomerID  Quantity  TotalPrice\n",
            "1909     541431      12346     74215    77183.60\n",
            "2205     542237      12347       315      475.39\n",
            "10173    562032      12347       277      584.91\n",
            "548      537626      12347       319      711.79\n",
            "7844     556201      12347       196      382.52\n",
            "...         ...        ...       ...         ...\n",
            "8040     556731      18283        52      103.72\n",
            "2054     541854      18283        66      105.30\n",
            "13860    570715      18287       990     1001.32\n",
            "14889    573167      18287       108       70.68\n",
            "6974     554065      18287       488      765.28\n",
            "\n",
            "[18536 rows x 4 columns]\n"
          ]
        }
      ]
    },
    {
      "cell_type": "code",
      "source": [
        "# Conto le fatture che iniziano con la lettera 'C' nella colonna 'InvoiceNo'\n",
        "cancellations_count = grouped[grouped['InvoiceNo'].str.startswith('C')].shape[0]\n",
        "\n",
        "print(\"Numero di fatture di cancellazione:\", cancellations_count)"
      ],
      "metadata": {
        "id": "F-dT2xa5BR1Q",
        "outputId": "d1d47d4f-8cd4-4d69-abb3-6b749d8e0583",
        "colab": {
          "base_uri": "https://localhost:8080/"
        }
      },
      "execution_count": 124,
      "outputs": [
        {
          "output_type": "stream",
          "name": "stdout",
          "text": [
            "Numero di fatture di cancellazione: 3654\n"
          ]
        }
      ]
    },
    {
      "cell_type": "markdown",
      "source": [
        "Numero di fatture complessive 22190"
      ],
      "metadata": {
        "id": "-1GKVsiwvTvC"
      }
    },
    {
      "cell_type": "code",
      "source": [
        "percentuale_fatture_cancellate = 3654/22190\n",
        "print(percentuale_fatture_cancellate)"
      ],
      "metadata": {
        "id": "dHpwg68Ov1hG",
        "outputId": "730a7a8c-d092-48c1-c42a-9f6af011a8e3",
        "colab": {
          "base_uri": "https://localhost:8080/"
        }
      },
      "execution_count": 125,
      "outputs": [
        {
          "output_type": "stream",
          "name": "stdout",
          "text": [
            "0.16466876971608832\n"
          ]
        }
      ]
    },
    {
      "cell_type": "code",
      "source": [
        "# Conto le fatture che iniziano con la lettera 'C' nella colonna 'InvoiceNo'\n",
        "cancellations_count_df = df[df['InvoiceNo'].str.startswith('C')].shape[0]\n",
        "\n",
        "print(\"Numero di fatture cancellate:\", cancellations_count_df)\n"
      ],
      "metadata": {
        "id": "Yl3rrfVyWTGx",
        "outputId": "36e60658-1639-48b1-8e4b-b890e54d94e7",
        "colab": {
          "base_uri": "https://localhost:8080/"
        }
      },
      "execution_count": 126,
      "outputs": [
        {
          "output_type": "stream",
          "name": "stdout",
          "text": [
            "Numero di fatture cancellate: 8872\n"
          ]
        }
      ]
    },
    {
      "cell_type": "code",
      "source": [
        "perc_transazioni_cancellate = 8872/401604\n",
        "print(perc_transazioni_cancellate)"
      ],
      "metadata": {
        "id": "-PixXFfIwECm",
        "outputId": "335b4447-b335-4ac7-f1ff-0af36254304f",
        "colab": {
          "base_uri": "https://localhost:8080/"
        }
      },
      "execution_count": 127,
      "outputs": [
        {
          "output_type": "stream",
          "name": "stdout",
          "text": [
            "0.02209141343213713\n"
          ]
        }
      ]
    },
    {
      "cell_type": "code",
      "source": [
        "df.shape"
      ],
      "metadata": {
        "id": "WcqghT3vW63U",
        "outputId": "c799883a-40c7-4a28-c7e4-b451ae197dd2",
        "colab": {
          "base_uri": "https://localhost:8080/"
        }
      },
      "execution_count": 128,
      "outputs": [
        {
          "output_type": "execute_result",
          "data": {
            "text/plain": [
              "(401604, 9)"
            ]
          },
          "metadata": {},
          "execution_count": 128
        }
      ]
    },
    {
      "cell_type": "markdown",
      "source": [
        "(DA FINIRE) Il numero degli ordini cancellati è pari al 16%, molto alto e quindi potenzialmente in grado di inquinare i miei dati, cercherò quindi di andare a rintracciare gli ordini di acquisto corrispondenti"
      ],
      "metadata": {
        "id": "1w1bTZasMUXB"
      }
    },
    {
      "cell_type": "code",
      "source": [
        "import pandas as pd\n",
        "\n",
        "df=pd.read_csv(\"data.csv\", encoding=\"ISO-8859-1\",\n",
        "                         dtype={'CustomerID': str,'InvoiceID': str})\n",
        "\n",
        "\n",
        "# Raggruppa le transazioni per paese e calcola il numero totale di transazioni per ciascun paese\n",
        "total_transactions_by_country = df.groupby('Country').size()\n",
        "\n",
        "# Filtra le transazioni cancellate\n",
        "cancelled_transactions = df[df['Quantity'] < 0]\n",
        "\n",
        "# Raggruppa le transazioni cancellate per paese e calcola il numero di transazioni cancellate per ciascun paese\n",
        "cancelled_transactions_by_country = cancelled_transactions.groupby('Country').size()\n",
        "\n",
        "# Calcola il tasso di cancellazione per ciascun paese\n",
        "cancellation_rate_by_country = cancelled_transactions_by_country / total_transactions_by_country\n",
        "\n",
        "# Stampa il tasso di cancellazione per ciascun paese\n",
        "print(\"Tasso di cancellazione delle transazioni per paese:\")\n",
        "print(cancellation_rate_by_country)\n"
      ],
      "metadata": {
        "colab": {
          "base_uri": "https://localhost:8080/"
        },
        "id": "YgmCeO73f8HD",
        "outputId": "c3e52ef2-1b13-42f0-8d03-16e0fa757853"
      },
      "execution_count": 129,
      "outputs": [
        {
          "output_type": "stream",
          "name": "stdout",
          "text": [
            "Tasso di cancellazione delle transazioni per paese:\n",
            "Country\n",
            "Australia               0.058777\n",
            "Austria                 0.007481\n",
            "Bahrain                 0.052632\n",
            "Belgium                 0.018366\n",
            "Brazil                       NaN\n",
            "Canada                       NaN\n",
            "Channel Islands         0.013193\n",
            "Cyprus                  0.012862\n",
            "Czech Republic          0.166667\n",
            "Denmark                 0.023136\n",
            "EIRE                    0.036847\n",
            "European Community      0.016393\n",
            "Finland                 0.014388\n",
            "France                  0.017413\n",
            "Germany                 0.047709\n",
            "Greece                  0.006849\n",
            "Hong Kong               0.013889\n",
            "Iceland                      NaN\n",
            "Israel                  0.006734\n",
            "Italy                   0.056040\n",
            "Japan                   0.103352\n",
            "Lebanon                      NaN\n",
            "Lithuania                    NaN\n",
            "Malta                   0.118110\n",
            "Netherlands             0.003374\n",
            "Norway                  0.012891\n",
            "Poland                  0.032258\n",
            "Portugal                0.011850\n",
            "RSA                          NaN\n",
            "Saudi Arabia            0.100000\n",
            "Singapore               0.030568\n",
            "Spain                   0.018950\n",
            "Sweden                  0.023810\n",
            "Switzerland             0.017483\n",
            "USA                     0.384880\n",
            "United Arab Emirates         NaN\n",
            "United Kingdom          0.018552\n",
            "Unspecified                  NaN\n",
            "dtype: float64\n"
          ]
        }
      ]
    },
    {
      "cell_type": "markdown",
      "source": [
        "\n",
        "Il dato in percentuale di cancellazione più alto é stato registrato negli Stati Uniti d'America ed indica che il 38.49% delle transazioni effettuate negli Stati Uniti è stato cancellato."
      ],
      "metadata": {
        "id": "LDt6rCyOg5rM"
      }
    },
    {
      "cell_type": "code",
      "source": [
        "import pandas as pd\n",
        "import matplotlib.pyplot as plt\n",
        "\n",
        "# Supponendo che il calcolo del tasso di cancellazione sia stato eseguito come descritto nel tuo codice\n",
        "\n",
        "# Creazione del grafico\n",
        "plt.figure(figsize=(10, 6))  # Imposta le dimensioni del grafico\n",
        "\n",
        "# Ordina i paesi in base al tasso di cancellazione\n",
        "cancellation_rate_by_country_sorted = cancellation_rate_by_country.sort_values()\n",
        "\n",
        "# Plot\n",
        "cancellation_rate_by_country_sorted.plot(kind='barh', color='skyblue')\n",
        "\n",
        "# Aggiunta di titoli e label\n",
        "plt.title('Tasso di cancellazione delle transazioni per paese')\n",
        "plt.xlabel('Tasso di cancellazione')\n",
        "plt.ylabel('Paese')\n",
        "\n",
        "# Mostra il grafico\n",
        "plt.tight_layout()  # Ottimizza il layout\n",
        "plt.show()\n"
      ],
      "metadata": {
        "colab": {
          "base_uri": "https://localhost:8080/",
          "height": 607
        },
        "id": "EEcU2WYrOF_Z",
        "outputId": "051ccdfe-37b3-470d-ac94-9dc9fe9d0e6b"
      },
      "execution_count": 130,
      "outputs": [
        {
          "output_type": "display_data",
          "data": {
            "text/plain": [
              "<Figure size 1000x600 with 1 Axes>"
            ],
            "image/png": "[encoded data removed]"
          },
          "metadata": {}
        }
      ]
    },
    {
      "cell_type": "markdown",
      "source": [
        "Visualizzazione relativa del tasso di cancellazione per paese"
      ],
      "metadata": {
        "id": "zE-c1GygONuL"
      }
    },
    {
      "cell_type": "code",
      "source": [
        "# Separare le fatture di acquisto e cancellazione\n",
        "cancellations = grouped[grouped['InvoiceNo'].str.startswith('C')]\n",
        "purchases = grouped[~grouped['InvoiceNo'].str.startswith('C')]\n",
        "\n",
        "# Unire le fatture di cancellazione con quelle di acquisto\n",
        "matched = cancellations.merge(purchases, on=['CustomerID', 'TotalPrice'], suffixes=('_cancellation', '_purchase'))\n",
        "\n",
        "# Selezionare solo le righe che soddisfano le condizioni con una tolleranza\n",
        "matched = matched[abs(matched['Quantity_cancellation']) == abs(matched['Quantity_purchase'])]\n",
        "\n",
        "print(matched)\n",
        "\n",
        "\n"
      ],
      "metadata": {
        "id": "6aVMY-34FEBK",
        "outputId": "3e6f8af6-4908-4784-ad1e-aabca028ab8f",
        "colab": {
          "base_uri": "https://localhost:8080/"
        }
      },
      "execution_count": 131,
      "outputs": [
        {
          "output_type": "stream",
          "name": "stdout",
          "text": [
            "Empty DataFrame\n",
            "Columns: [InvoiceNo_cancellation, CustomerID, Quantity_cancellation, TotalPrice, InvoiceNo_purchase, Quantity_purchase]\n",
            "Index: []\n"
          ]
        }
      ]
    },
    {
      "cell_type": "code",
      "source": [],
      "metadata": {
        "id": "sGkGCtxr8dCx"
      },
      "execution_count": 131,
      "outputs": []
    },
    {
      "cell_type": "code",
      "source": [
        "# rimuovo le righe duplicate\n",
        "df = df.drop_duplicates()\n",
        "\n",
        "# Visualizza il DataFrame senza righe duplicate\n",
        "print(df)"
      ],
      "metadata": {
        "colab": {
          "base_uri": "https://localhost:8080/"
        },
        "id": "KEtnoSc1PP14",
        "outputId": "df69cd06-47cd-4995-eb23-2580a09e7d8d"
      },
      "execution_count": 132,
      "outputs": [
        {
          "output_type": "stream",
          "name": "stdout",
          "text": [
            "       InvoiceNo StockCode                          Description  Quantity  \\\n",
            "0         536365    85123A   WHITE HANGING HEART T-LIGHT HOLDER         6   \n",
            "1         536365     71053                  WHITE METAL LANTERN         6   \n",
            "2         536365    84406B       CREAM CUPID HEARTS COAT HANGER         8   \n",
            "3         536365    84029G  KNITTED UNION FLAG HOT WATER BOTTLE         6   \n",
            "4         536365    84029E       RED WOOLLY HOTTIE WHITE HEART.         6   \n",
            "...          ...       ...                                  ...       ...   \n",
            "541904    581587     22613          PACK OF 20 SPACEBOY NAPKINS        12   \n",
            "541905    581587     22899         CHILDREN'S APRON DOLLY GIRL          6   \n",
            "541906    581587     23254        CHILDRENS CUTLERY DOLLY GIRL          4   \n",
            "541907    581587     23255      CHILDRENS CUTLERY CIRCUS PARADE         4   \n",
            "541908    581587     22138        BAKING SET 9 PIECE RETROSPOT          3   \n",
            "\n",
            "            InvoiceDate  UnitPrice CustomerID         Country  \n",
            "0        12/1/2010 8:26       2.55      17850  United Kingdom  \n",
            "1        12/1/2010 8:26       3.39      17850  United Kingdom  \n",
            "2        12/1/2010 8:26       2.75      17850  United Kingdom  \n",
            "3        12/1/2010 8:26       3.39      17850  United Kingdom  \n",
            "4        12/1/2010 8:26       3.39      17850  United Kingdom  \n",
            "...                 ...        ...        ...             ...  \n",
            "541904  12/9/2011 12:50       0.85      12680          France  \n",
            "541905  12/9/2011 12:50       2.10      12680          France  \n",
            "541906  12/9/2011 12:50       4.15      12680          France  \n",
            "541907  12/9/2011 12:50       4.15      12680          France  \n",
            "541908  12/9/2011 12:50       4.95      12680          France  \n",
            "\n",
            "[536641 rows x 8 columns]\n"
          ]
        }
      ]
    },
    {
      "cell_type": "code",
      "source": [
        "# Filtrare le transazioni cancellate\n",
        "cancellations = df[df['InvoiceNo'].str.startswith('C')]\n",
        "\n",
        "\n",
        "# Filtrare le transazioni di acquisto\n",
        "purchases = df[~df['InvoiceNo'].str.startswith('C')]\n",
        "\n",
        "# Unire le transazioni cancellate con quelle di acquisto basate sullo stesso CustomerID, stesso importo negativo e stessa descrizione\n",
        "matched = cancellations.merge(purchases, on=['CustomerID', 'Description'], suffixes=('_cancellation', '_purchase'))\n",
        "\n",
        "# Selezionare solo le righe che soddisfano le condizioni con una tolleranza\n",
        "matched = matched[(matched['Quantity_cancellation'] == -matched['Quantity_purchase'])]\n",
        "\n",
        "print(matched[:20])\n",
        "\n",
        "\n"
      ],
      "metadata": {
        "id": "AV5egd1sydaP",
        "outputId": "181fc308-00a6-4b4a-c066-5e144e4cb2e8",
        "colab": {
          "base_uri": "https://localhost:8080/"
        }
      },
      "execution_count": 133,
      "outputs": [
        {
          "output_type": "stream",
          "name": "stdout",
          "text": [
            "    InvoiceNo_cancellation StockCode_cancellation  \\\n",
            "26                 C536543                  22355   \n",
            "28                 C536543                  22355   \n",
            "29                 C536543                  22355   \n",
            "32                 C536543                  22355   \n",
            "38                 C536543                  22355   \n",
            "39                 C536543                  22355   \n",
            "53                 C536543                  22355   \n",
            "54                 C536543                  22355   \n",
            "55                 C536543                  22355   \n",
            "59                 C536543                  22355   \n",
            "90                 C536548                  22168   \n",
            "95                 C536622                  22752   \n",
            "103                C536734                  22780   \n",
            "104                C538109                  22780   \n",
            "105                C536734                  85048   \n",
            "106                C538109                  85048   \n",
            "237                C536822                  22847   \n",
            "249                C536979                  84685   \n",
            "251                C536979                  84685   \n",
            "253                C536979                  22630   \n",
            "\n",
            "                             Description  Quantity_cancellation  \\\n",
            "26             CHARLOTTE BAG SUKI DESIGN                     -2   \n",
            "28             CHARLOTTE BAG SUKI DESIGN                     -2   \n",
            "29             CHARLOTTE BAG SUKI DESIGN                     -2   \n",
            "32             CHARLOTTE BAG SUKI DESIGN                     -2   \n",
            "38             CHARLOTTE BAG SUKI DESIGN                     -2   \n",
            "39             CHARLOTTE BAG SUKI DESIGN                     -2   \n",
            "53             CHARLOTTE BAG SUKI DESIGN                     -2   \n",
            "54             CHARLOTTE BAG SUKI DESIGN                     -2   \n",
            "55             CHARLOTTE BAG SUKI DESIGN                     -2   \n",
            "59             CHARLOTTE BAG SUKI DESIGN                     -2   \n",
            "90         ORGANISER WOOD ANTIQUE WHITE                      -2   \n",
            "95          SET 7 BABUSHKA NESTING BOXES                     -2   \n",
            "103       LIGHT GARLAND BUTTERFILES PINK                     -4   \n",
            "104       LIGHT GARLAND BUTTERFILES PINK                     -4   \n",
            "105  15CM CHRISTMAS GLASS BALL 20 LIGHTS                     -1   \n",
            "106  15CM CHRISTMAS GLASS BALL 20 LIGHTS                     -1   \n",
            "237          BREAD BIN DINER STYLE IVORY                     -2   \n",
            "249                BEACH HUT KEY CABINET                     -1   \n",
            "251                BEACH HUT KEY CABINET                     -1   \n",
            "253                 DOLLY GIRL LUNCH BOX                     -1   \n",
            "\n",
            "    InvoiceDate_cancellation  UnitPrice_cancellation CustomerID  \\\n",
            "26           12/1/2010 14:30                    0.85      17841   \n",
            "28           12/1/2010 14:30                    0.85      17841   \n",
            "29           12/1/2010 14:30                    0.85      17841   \n",
            "32           12/1/2010 14:30                    0.85      17841   \n",
            "38           12/1/2010 14:30                    0.85      17841   \n",
            "39           12/1/2010 14:30                    0.85      17841   \n",
            "53           12/1/2010 14:30                    0.85      17841   \n",
            "54           12/1/2010 14:30                    0.85      17841   \n",
            "55           12/1/2010 14:30                    0.85      17841   \n",
            "59           12/1/2010 14:30                    0.85      17841   \n",
            "90           12/1/2010 14:33                    8.50      12472   \n",
            "95           12/2/2010 10:37                    8.50      12471   \n",
            "103          12/2/2010 12:50                    4.25      16042   \n",
            "104          12/9/2010 15:23                    4.25      16042   \n",
            "105          12/2/2010 12:50                    7.95      16042   \n",
            "106          12/9/2010 15:23                    7.95      16042   \n",
            "237          12/2/2010 17:19                   16.95      14625   \n",
            "249          12/3/2010 14:23                    3.75      17841   \n",
            "251          12/3/2010 14:23                    3.75      17841   \n",
            "253          12/3/2010 14:23                    1.95      17841   \n",
            "\n",
            "    Country_cancellation InvoiceNo_purchase StockCode_purchase  \\\n",
            "26        United Kingdom             546543              22355   \n",
            "28        United Kingdom             548492              22355   \n",
            "29        United Kingdom             549014              22355   \n",
            "32        United Kingdom             550359              22355   \n",
            "38        United Kingdom             554942              22355   \n",
            "39        United Kingdom             555562              22355   \n",
            "53        United Kingdom             563538              22355   \n",
            "54        United Kingdom             563771              22355   \n",
            "55        United Kingdom             564141              22355   \n",
            "59        United Kingdom             570818              22355   \n",
            "90               Germany             542215              22168   \n",
            "95               Germany             538174              22752   \n",
            "103       United Kingdom             540822              22780   \n",
            "104       United Kingdom             540822              22780   \n",
            "105       United Kingdom             540822              85048   \n",
            "106       United Kingdom             540822              85048   \n",
            "237       United Kingdom             554963              22847   \n",
            "249       United Kingdom             536557              84685   \n",
            "251       United Kingdom             540021              84685   \n",
            "253       United Kingdom             540021              22630   \n",
            "\n",
            "     Quantity_purchase InvoiceDate_purchase  UnitPrice_purchase  \\\n",
            "26                   2      3/14/2011 15:40                0.85   \n",
            "28                   2      3/31/2011 13:14                0.85   \n",
            "29                   2       4/5/2011 15:00                0.85   \n",
            "32                   2      4/18/2011 10:41                0.85   \n",
            "38                   2      5/27/2011 14:01                0.85   \n",
            "39                   2       6/5/2011 14:45                0.85   \n",
            "53                   2      8/17/2011 11:48                0.85   \n",
            "54                   2      8/19/2011 11:17                0.85   \n",
            "55                   2      8/23/2011 11:47                0.85   \n",
            "59                   2     10/12/2011 12:47                0.85   \n",
            "90                   2      1/26/2011 12:27                8.50   \n",
            "95                   2      12/10/2010 9:35                8.50   \n",
            "103                  4      1/11/2011 13:25                4.25   \n",
            "104                  4      1/11/2011 13:25                4.25   \n",
            "105                  1      1/11/2011 13:25                7.95   \n",
            "106                  1      1/11/2011 13:25                7.95   \n",
            "237                  2      5/27/2011 15:32               16.95   \n",
            "249                  1      12/1/2010 14:41                3.75   \n",
            "251                  1       1/4/2011 12:51                3.75   \n",
            "253                  1       1/4/2011 12:51                1.95   \n",
            "\n",
            "    Country_purchase  \n",
            "26    United Kingdom  \n",
            "28    United Kingdom  \n",
            "29    United Kingdom  \n",
            "32    United Kingdom  \n",
            "38    United Kingdom  \n",
            "39    United Kingdom  \n",
            "53    United Kingdom  \n",
            "54    United Kingdom  \n",
            "55    United Kingdom  \n",
            "59    United Kingdom  \n",
            "90           Germany  \n",
            "95           Germany  \n",
            "103   United Kingdom  \n",
            "104   United Kingdom  \n",
            "105   United Kingdom  \n",
            "106   United Kingdom  \n",
            "237   United Kingdom  \n",
            "249   United Kingdom  \n",
            "251   United Kingdom  \n",
            "253   United Kingdom  \n"
          ]
        }
      ]
    },
    {
      "cell_type": "markdown",
      "source": [
        "**StockCode Cleaning**"
      ],
      "metadata": {
        "id": "mDjCp19QaHdr"
      }
    },
    {
      "cell_type": "markdown",
      "source": [
        "Alcuni codici nella colonna stock code non corrispondono a transazioni e devono quindi essere identificati ed eventualmente modificati"
      ],
      "metadata": {
        "id": "frwhALcqilyy"
      }
    },
    {
      "cell_type": "code",
      "source": [
        "# Tratta i valori mancanti nella colonna 'StockCode' con fillna('')\n",
        "df['StockCode'] = df['StockCode'].fillna('')\n",
        "\n",
        "# Seleziona le celle della colonna 'StockCode' che contengono solo testo senza numeri\n",
        "text_only_stock_codes = df[df['StockCode'].str.match(r'^[^\\d]+$')]['StockCode']\n",
        "\n",
        "# Conta quante celle soddisfano il criterio\n",
        "text_only_count = text_only_stock_codes.count()\n",
        "\n",
        "# Ottieni una lista univoca dei loro contenuti\n",
        "unique_text_only_stock_codes = text_only_stock_codes.unique()\n",
        "\n",
        "print(\"Numero di celle con solo testo senza numeri nella colonna 'StockCode':\", text_only_count)\n",
        "print(\"Lista univoca dei contenuti:\", unique_text_only_stock_codes)"
      ],
      "metadata": {
        "id": "HcQU0g0Jk9e5",
        "colab": {
          "base_uri": "https://localhost:8080/"
        },
        "outputId": "1856edb0-5cdc-43cd-d89e-aace08cc4237"
      },
      "execution_count": 134,
      "outputs": [
        {
          "output_type": "stream",
          "name": "stdout",
          "text": [
            "Numero di celle con solo testo senza numeri nella colonna 'StockCode': 2790\n",
            "Lista univoca dei contenuti: ['POST' 'D' 'DOT' 'M' 'BANK CHARGES' 'S' 'AMAZONFEE' 'm' 'DCGSSBOY'\n",
            " 'DCGSSGIRL' 'PADS' 'B' 'CRUK']\n"
          ]
        }
      ]
    },
    {
      "cell_type": "code",
      "source": [
        "# Lista dei valori da rimuovere\n",
        "valori_da_rimuovere = ['POST', 'D', 'M', 'BANK CHARGES', 'PADS', 'DOT', 'CRUK']\n",
        "\n",
        "# Rimuovi le righe con i valori specificati nella colonna 'StockCode'\n",
        "df = df[~df['StockCode'].isin(valori_da_rimuovere)]\n",
        "\n",
        "df.shape"
      ],
      "metadata": {
        "id": "Tdz43ADDhtk1",
        "colab": {
          "base_uri": "https://localhost:8080/"
        },
        "outputId": "d07dea8a-5834-49d9-a3c6-a0d10be66ac5"
      },
      "execution_count": 135,
      "outputs": [
        {
          "output_type": "execute_result",
          "data": {
            "text/plain": [
              "(533975, 8)"
            ]
          },
          "metadata": {},
          "execution_count": 135
        }
      ]
    },
    {
      "cell_type": "markdown",
      "source": [
        "POST: Probabilmente indica spese postali o costi di spedizione associati a un ordine.\n",
        "\n",
        "D: Indica uno sconto applicato a un ordine o a un articolo specifico.\n",
        "\n",
        "M: Potrebbe indicare una transazione registrata manualmente per un motivo specifico.\n",
        "\n",
        "BANK CHARGES: Si riferisce alle spese bancarie associate a un'operazione finanziaria.\n",
        "\n",
        "PADS: Probabilmente si riferisce a cuscinetti o inserti per cuscini.\n",
        "\n",
        "DOT: Potrebbe indicare spese postali associate a ordini effettuati tramite una piattaforma online specifica.\n",
        "\n",
        "CRUK: Potrebbe essere un codice interno o abbreviazione per un particolare articolo o servizio."
      ],
      "metadata": {
        "id": "_AQHqUynlTdD"
      }
    },
    {
      "cell_type": "markdown",
      "source": [
        "Visualizzo il numero di transazioni per mese"
      ],
      "metadata": {
        "id": "4Ct2Azchkj7W"
      }
    },
    {
      "cell_type": "code",
      "source": [
        "import pandas as pd\n",
        "import matplotlib.pyplot as plt\n",
        "\n",
        "# Convertiamo la colonna 'InvoiceDate' in formato datetime\n",
        "df['InvoiceDate'] = pd.to_datetime(df['InvoiceDate'])\n",
        "\n",
        "# Estraiamo il mese e l'anno dalle date delle transazioni\n",
        "df['Month'] = df['InvoiceDate'].dt.month\n",
        "df['Year'] = df['InvoiceDate'].dt.year\n",
        "\n",
        "# Contiamo il numero di transazioni per ogni mese e anno\n",
        "transactions_per_month = df.groupby(['Year', 'Month']).size()\n",
        "\n",
        "# Creiamo il grafico a linee\n",
        "transactions_per_month.plot(kind='line', marker='o', figsize=(10, 6))\n",
        "plt.title('Numero di Transazioni per Mese')\n",
        "plt.xlabel('Mese')\n",
        "plt.ylabel('Numero di Transazioni')\n",
        "plt.xticks(rotation=45)\n",
        "plt.grid(True)\n",
        "plt.tight_layout()\n",
        "plt.show()\n"
      ],
      "metadata": {
        "id": "aaCUBcMWkBL5",
        "colab": {
          "base_uri": "https://localhost:8080/",
          "height": 607
        },
        "outputId": "d3f4308d-4e2a-40e1-d265-5909ae99a779"
      },
      "execution_count": 136,
      "outputs": [
        {
          "output_type": "display_data",
          "data": {
            "text/plain": [
              "<Figure size 1000x600 with 1 Axes>"
            ],
            "image/png": "[encoded data removed]"
          },
          "metadata": {}
        }
      ]
    },
    {
      "cell_type": "markdown",
      "source": [
        "Dal grafico si evince che si ha un aumento di transazioni tra agosto e novembre, con relativo picco di transazioni eseguite a NOVEMBRE"
      ],
      "metadata": {
        "id": "aWQPVd527Z14"
      }
    },
    {
      "cell_type": "code",
      "source": [
        "# Estrarre l'ora dall'orario di ciascun ordine\n",
        "df['Hour'] = df['InvoiceDate'].dt.hour\n",
        "\n",
        "import matplotlib.pyplot as plt\n",
        "\n",
        "# Raggruppa i dati per ora e conta il numero di ordini per ogni ora\n",
        "orders_per_hour = df.groupby('Hour').size()\n",
        "\n",
        "# Plotta il numero di ordini per ogni ora\n",
        "plt.figure(figsize=(10, 6))\n",
        "plt.bar(orders_per_hour.index, orders_per_hour.values, color='skyblue')\n",
        "plt.xlabel('Hour of the Day')\n",
        "plt.ylabel('Number of Orders')\n",
        "plt.title('Number of Orders per Hour of the Day')\n",
        "plt.xticks(range(24))\n",
        "plt.grid(axis='y', linestyle='--', alpha=0.7)\n",
        "plt.show()\n",
        "\n"
      ],
      "metadata": {
        "id": "jhdtZ3pOt0Di",
        "colab": {
          "base_uri": "https://localhost:8080/",
          "height": 564
        },
        "outputId": "c0076c69-5ccb-4ac9-f61c-4445b2ab5fc2"
      },
      "execution_count": 137,
      "outputs": [
        {
          "output_type": "display_data",
          "data": {
            "text/plain": [
              "<Figure size 1000x600 with 1 Axes>"
            ],
            "image/png": "[encoded data removed]"
          },
          "metadata": {}
        }
      ]
    },
    {
      "cell_type": "code",
      "source": [],
      "metadata": {
        "id": "viJJv8IwCiNG"
      },
      "execution_count": 137,
      "outputs": []
    },
    {
      "cell_type": "markdown",
      "source": [
        "Il numero di ordini giornalieri avviene principalmente nella fascia oraria tra mezzogiorno e le h.15:00, con il picco più alto a MEZZOGIORNO."
      ],
      "metadata": {
        "id": "hiqEnOit7yeh"
      }
    },
    {
      "cell_type": "code",
      "source": [
        "import pandas as pd\n",
        "import matplotlib.pyplot as plt\n",
        "from google.colab import drive\n",
        "\n",
        "# Genera dati casuali per l'esempio\n",
        "# Supponiamo di avere già df con la colonna 'InvoiceDate' contenente la data e l'ora di ciascun ordine\n",
        "\n",
        "# Estrai l'ora dall'orario di ciascun ordine\n",
        "df['Hour'] = df['InvoiceDate'].dt.hour\n",
        "\n",
        "# Raggruppa i dati per ora e conta il numero di ordini per ogni ora\n",
        "transactions_per_hour = df.groupby('Hour').size()\n",
        "\n",
        "# Crea un DataFrame con il numero di transazioni per ogni ora\n",
        "hourly_transactions_df = pd.DataFrame(transactions_per_hour, columns=['Number of Transactions'])\n",
        "\n",
        "# Aggiungi tutte le ore del giorno dalla 0 alle 23\n",
        "for hour in range(24):\n",
        "    if hour not in hourly_transactions_df.index:\n",
        "        hourly_transactions_df.loc[hour] = 0\n",
        "\n",
        "# Ordina l'indice\n",
        "hourly_transactions_df.sort_index(inplace=True)\n",
        "\n"
      ],
      "metadata": {
        "id": "R3DrW64Qa0v1"
      },
      "execution_count": 138,
      "outputs": []
    },
    {
      "cell_type": "markdown",
      "source": [
        "**Provvedo ora a fare un'analisi dei 20 articoli **piu' venduti secondo la colonna description in termini di quantità"
      ],
      "metadata": {
        "id": "SWnvZdJn0SnW"
      }
    },
    {
      "cell_type": "code",
      "source": [
        "df.shape"
      ],
      "metadata": {
        "outputId": "0a44b0ab-f575-46cc-cd29-0a4b891212bf",
        "colab": {
          "base_uri": "https://localhost:8080/"
        },
        "id": "4GwSCA1Y3dR8"
      },
      "execution_count": 139,
      "outputs": [
        {
          "output_type": "execute_result",
          "data": {
            "text/plain": [
              "(533975, 11)"
            ]
          },
          "metadata": {},
          "execution_count": 139
        }
      ]
    },
    {
      "cell_type": "code",
      "source": [
        "\n",
        "\n",
        "# Rimuovi gli ordini cancellati\n",
        "df = df[~df['InvoiceNo'].str.startswith('C')]\n",
        "\n",
        "# Raggruppa per stock code e description, somma le quantità ordinate\n",
        "top_20 = df.groupby(['StockCode', 'Description'])['Quantity'].sum().reset_index()\n",
        "\n",
        "# Ordina in ordine decrescente basato sulla quantità e seleziona i primi 10 articoli\n",
        "top_20 = top_20.sort_values(by='Quantity', ascending=False).head(20)\n",
        "\n",
        "# Stampare i risultati\n",
        "print(top_20)\n"
      ],
      "metadata": {
        "id": "UFdWSXdu5lFS",
        "colab": {
          "base_uri": "https://localhost:8080/"
        },
        "outputId": "57e7e3e0-5f09-40d5-a885-aaea9ebe5235"
      },
      "execution_count": 140,
      "outputs": [
        {
          "output_type": "stream",
          "name": "stdout",
          "text": [
            "     StockCode                         Description  Quantity\n",
            "3029     23843         PAPER CRAFT , LITTLE BIRDIE     80995\n",
            "2455     23166      MEDIUM CERAMIC TOP STORAGE JAR     78033\n",
            "3610     84077   WORLD WAR 2 GLIDERS ASSTD DESIGNS     54951\n",
            "4183    85099B             JUMBO BAG RED RETROSPOT     48375\n",
            "4209    85123A  WHITE HANGING HEART T-LIGHT HOLDER     37584\n",
            "1330     22197                      POPCORN HOLDER     36749\n",
            "530      21212     PACK OF 72 RETROSPOT CAKE CASES     36396\n",
            "3948     84879       ASSORTED COLOUR BIRD ORNAMENT     36362\n",
            "2341     23084                  RABBIT NIGHT LIGHT     30739\n",
            "1627     22492             MINI PAINT SET VINTAGE      26633\n",
            "1772     22616          PACK OF 12 LONDON TISSUES      26323\n",
            "1119     21977  PACK OF 60 PINK PAISLEY CAKE CASES     24820\n",
            "1309     22178     VICTORIAN GLASS HANGING T-LIGHT     24275\n",
            "14       15036           ASSORTED COLOURS SILK FAN     23826\n",
            "91       17003                 BROCADE RING PURSE      23020\n",
            "1083     21915              RED  HARMONICA IN BOX      21903\n",
            "1518     22386             JUMBO BAG PINK POLKADOT     21448\n",
            "1331     22197                SMALL POPCORN HOLDER     20149\n",
            "1204     22086     PAPER CHAIN KIT 50'S CHRISTMAS      19329\n",
            "210      20725             LUNCH BAG RED RETROSPOT     19232\n"
          ]
        }
      ]
    },
    {
      "cell_type": "code",
      "source": [
        "import pandas as pd\n",
        "\n",
        "# Rimuovi gli ordini cancellati\n",
        "df = df[~df['InvoiceNo'].str.startswith('C')]\n",
        "\n",
        "# Raggruppa per stock code, description e country, somma le quantità ordinate\n",
        "top_20_uk = df[df['Country'] == 'United Kingdom'].groupby(['StockCode', 'Description'])['Quantity'].sum().reset_index()\n",
        "top_20_world = df[df['Country'] != 'United Kingdom'].groupby(['StockCode', 'Description'])['Quantity'].sum().reset_index()\n",
        "\n",
        "# Ordina in ordine decrescente basato sulla quantità e seleziona i primi 20 articoli per il Regno Unito e il resto del mondo\n",
        "top_20_uk = top_20_uk.sort_values(by='Quantity', ascending=False).head(20).assign(Country='Regno Unito')\n",
        "top_20_world = top_20_world.sort_values(by='Quantity', ascending=False).head(20).assign(Country='Resto del mondo')\n",
        "\n",
        "# Concatenazione dei due DataFrame\n",
        "combined_df = pd.concat([top_20_uk, top_20_world])\n",
        "\n",
        "# Stampare i risultati\n",
        "print(\"Top 20 articoli più venduti nel Regno Unito e nel resto del mondo:\")\n",
        "print(combined_df)\n",
        "\n"
      ],
      "metadata": {
        "colab": {
          "base_uri": "https://localhost:8080/"
        },
        "id": "qyaQ7Myl7UjU",
        "outputId": "477b4cce-6811-4a70-9df3-eabf552e9d92"
      },
      "execution_count": 141,
      "outputs": [
        {
          "output_type": "stream",
          "name": "stdout",
          "text": [
            "Top 20 articoli più venduti nel Regno Unito e nel resto del mondo:\n",
            "     StockCode                          Description  Quantity          Country\n",
            "3014     23843          PAPER CRAFT , LITTLE BIRDIE     80995      Regno Unito\n",
            "2444     23166       MEDIUM CERAMIC TOP STORAGE JAR     77036      Regno Unito\n",
            "3595     84077    WORLD WAR 2 GLIDERS ASSTD DESIGNS     49430      Regno Unito\n",
            "4165    85099B              JUMBO BAG RED RETROSPOT     44165      Regno Unito\n",
            "4191    85123A   WHITE HANGING HEART T-LIGHT HOLDER     35434      Regno Unito\n",
            "1326     22197                       POPCORN HOLDER     34726      Regno Unito\n",
            "3931     84879        ASSORTED COLOUR BIRD ORNAMENT     33636      Regno Unito\n",
            "1766     22616           PACK OF 12 LONDON TISSUES      25315      Regno Unito\n",
            "527      21212      PACK OF 72 RETROSPOT CAKE CASES     24963      Regno Unito\n",
            "1305     22178      VICTORIAN GLASS HANGING T-LIGHT     23663      Regno Unito\n",
            "91       17003                  BROCADE RING PURSE      22768      Regno Unito\n",
            "14       15036            ASSORTED COLOURS SILK FAN     21066      Regno Unito\n",
            "1116     21977   PACK OF 60 PINK PAISLEY CAKE CASES     20331      Regno Unito\n",
            "1512     22386              JUMBO BAG PINK POLKADOT     19375      Regno Unito\n",
            "1327     22197                 SMALL POPCORN HOLDER     18594      Regno Unito\n",
            "1201     22086      PAPER CHAIN KIT 50'S CHRISTMAS      18510      Regno Unito\n",
            "1080     21915               RED  HARMONICA IN BOX      17779      Regno Unito\n",
            "1599     22469                HEART OF WICKER SMALL     17522      Regno Unito\n",
            "3275     47566                        PARTY BUNTING     16965      Regno Unito\n",
            "4167    85099F                 JUMBO BAG STRAWBERRY     16224      Regno Unito\n",
            "1723     23084                   RABBIT NIGHT LIGHT     15486  Resto del mondo\n",
            "1161     22492              MINI PAINT SET VINTAGE      12601  Resto del mondo\n",
            "317      21212      PACK OF 72 RETROSPOT CAKE CASES     11433  Resto del mondo\n",
            "1294     22629                  SPACEBOY LUNCH BOX       8375  Resto del mondo\n",
            "1295     22630                 DOLLY GIRL LUNCH BOX      7365  Resto del mondo\n",
            "1015     22326  ROUND SNACK BOXES SET OF4 WOODLAND       6853  Resto del mondo\n",
            "599      21731        RED TOADSTOOL LED NIGHT LIGHT      6795  Resto del mondo\n",
            "2473     84077    WORLD WAR 2 GLIDERS ASSTD DESIGNS      5521  Resto del mondo\n",
            "1218     22554     PLASTERS IN TIN WOODLAND ANIMALS      5205  Resto del mondo\n",
            "1216     22551             PLASTERS IN TIN SPACEBOY      4980  Resto del mondo\n",
            "109      20719               WOODLAND CHARLOTTE BAG      4655  Resto del mondo\n",
            "1017     22328   ROUND SNACK BOXES SET OF 4 FRUITS       4592  Resto del mondo\n",
            "1159     22489       PACK OF 12 TRADITIONAL CRAYONS      4577  Resto del mondo\n",
            "732      21977   PACK OF 60 PINK PAISLEY CAKE CASES      4489  Resto del mondo\n",
            "2673     84991          60 TEATIME FAIRY CAKE CASES      4482  Resto del mondo\n",
            "1093     22417       PACK OF 60 SPACEBOY CAKE CASES      4332  Resto del mondo\n",
            "112      20725              LUNCH BAG RED RETROSPOT      4242  Resto del mondo\n",
            "111      20724          RED RETROSPOT CHARLOTTE BAG      4222  Resto del mondo\n",
            "2736    85099B              JUMBO BAG RED RETROSPOT      4210  Resto del mondo\n",
            "699      21915               RED  HARMONICA IN BOX       4124  Resto del mondo\n"
          ]
        }
      ]
    },
    {
      "cell_type": "code",
      "source": [
        " # Rimuovi gli ordini cancellati\n",
        "df = df[~df['InvoiceNo'].str.startswith('C')]\n",
        "\n",
        "# Raggruppa per stock code, description e country, somma le quantità ordinate\n",
        "top_20_uk = df[df['Country'] == 'United Kingdom'].groupby(['StockCode', 'Description'])['Quantity'].sum().reset_index()\n",
        "top_20_world = df[df['Country'] != 'United Kingdom'].groupby(['StockCode', 'Description'])['Quantity'].sum().reset_index()\n",
        "\n",
        "# Ordina in ordine decrescente basato sulla quantità e seleziona i primi 20 articoli per il Regno Unito e il resto del mondo\n",
        "top_20_uk = top_20_uk.sort_values(by='Quantity', ascending=False).head(20)\n",
        "top_20_world = top_20_world.sort_values(by='Quantity', ascending=False).head(20)\n",
        "\n",
        "# Stampare i risultati per il Regno Unito\n",
        "print(\"Top 20 articoli più venduti nel Regno Unito:\")\n",
        "print(top_20_uk)\n",
        "\n",
        "# Stampare i risultati per il resto del mondo\n",
        "print(\"\\nTop 20 articoli più venduti nel resto del mondo:\")\n",
        "print(top_20_world)"
      ],
      "metadata": {
        "id": "Xm9vVNr4GiRd",
        "outputId": "20d4468a-aec3-4947-bd68-ad0fa96eedab",
        "colab": {
          "base_uri": "https://localhost:8080/"
        }
      },
      "execution_count": 142,
      "outputs": [
        {
          "output_type": "stream",
          "name": "stdout",
          "text": [
            "Top 20 articoli più venduti nel Regno Unito:\n",
            "     StockCode                         Description  Quantity\n",
            "3014     23843         PAPER CRAFT , LITTLE BIRDIE     80995\n",
            "2444     23166      MEDIUM CERAMIC TOP STORAGE JAR     77036\n",
            "3595     84077   WORLD WAR 2 GLIDERS ASSTD DESIGNS     49430\n",
            "4165    85099B             JUMBO BAG RED RETROSPOT     44165\n",
            "4191    85123A  WHITE HANGING HEART T-LIGHT HOLDER     35434\n",
            "1326     22197                      POPCORN HOLDER     34726\n",
            "3931     84879       ASSORTED COLOUR BIRD ORNAMENT     33636\n",
            "1766     22616          PACK OF 12 LONDON TISSUES      25315\n",
            "527      21212     PACK OF 72 RETROSPOT CAKE CASES     24963\n",
            "1305     22178     VICTORIAN GLASS HANGING T-LIGHT     23663\n",
            "91       17003                 BROCADE RING PURSE      22768\n",
            "14       15036           ASSORTED COLOURS SILK FAN     21066\n",
            "1116     21977  PACK OF 60 PINK PAISLEY CAKE CASES     20331\n",
            "1512     22386             JUMBO BAG PINK POLKADOT     19375\n",
            "1327     22197                SMALL POPCORN HOLDER     18594\n",
            "1201     22086     PAPER CHAIN KIT 50'S CHRISTMAS      18510\n",
            "1080     21915              RED  HARMONICA IN BOX      17779\n",
            "1599     22469               HEART OF WICKER SMALL     17522\n",
            "3275     47566                       PARTY BUNTING     16965\n",
            "4167    85099F                JUMBO BAG STRAWBERRY     16224\n",
            "\n",
            "Top 20 articoli più venduti nel resto del mondo:\n",
            "     StockCode                          Description  Quantity\n",
            "1723     23084                   RABBIT NIGHT LIGHT     15486\n",
            "1161     22492              MINI PAINT SET VINTAGE      12601\n",
            "317      21212      PACK OF 72 RETROSPOT CAKE CASES     11433\n",
            "1294     22629                  SPACEBOY LUNCH BOX       8375\n",
            "1295     22630                 DOLLY GIRL LUNCH BOX      7365\n",
            "1015     22326  ROUND SNACK BOXES SET OF4 WOODLAND       6853\n",
            "599      21731        RED TOADSTOOL LED NIGHT LIGHT      6795\n",
            "2473     84077    WORLD WAR 2 GLIDERS ASSTD DESIGNS      5521\n",
            "1218     22554     PLASTERS IN TIN WOODLAND ANIMALS      5205\n",
            "1216     22551             PLASTERS IN TIN SPACEBOY      4980\n",
            "109      20719               WOODLAND CHARLOTTE BAG      4655\n",
            "1017     22328   ROUND SNACK BOXES SET OF 4 FRUITS       4592\n",
            "1159     22489       PACK OF 12 TRADITIONAL CRAYONS      4577\n",
            "732      21977   PACK OF 60 PINK PAISLEY CAKE CASES      4489\n",
            "2673     84991          60 TEATIME FAIRY CAKE CASES      4482\n",
            "1093     22417       PACK OF 60 SPACEBOY CAKE CASES      4332\n",
            "112      20725              LUNCH BAG RED RETROSPOT      4242\n",
            "111      20724          RED RETROSPOT CHARLOTTE BAG      4222\n",
            "2736    85099B              JUMBO BAG RED RETROSPOT      4210\n",
            "699      21915               RED  HARMONICA IN BOX       4124\n"
          ]
        }
      ]
    },
    {
      "cell_type": "code",
      "source": [
        "import pandas as pd\n",
        "\n",
        "# Creazione dei DataFrame per i risultati\n",
        "df_uk = pd.DataFrame({\n",
        "    'StockCode': ['23166', '84077', '85099B', '85123A', '84879', '21212', '22616', '17003', '22178', '15036',\n",
        "                  '21977', '22197', '22386', '22197', '47566', '85099F', '22469', '84755', '22693', '21915'],\n",
        "    'Description': ['MEDIUM CERAMIC TOP STORAGE JAR', 'WORLD WAR 2 GLIDERS ASSTD DESIGNS', 'JUMBO BAG RED RETROSPOT',\n",
        "                    'WHITE HANGING HEART T-LIGHT HOLDER', 'ASSORTED COLOUR BIRD ORNAMENT', 'PACK OF 72 RETROSPOT CAKE CASES',\n",
        "                    'PACK OF 12 LONDON TISSUES', 'BROCADE RING PURSE', 'VICTORIAN GLASS HANGING T-LIGHT',\n",
        "                    'ASSORTED COLOURS SILK FAN', 'PACK OF 60 PINK PAISLEY CAKE CASES', 'SMALL POPCORN HOLDER',\n",
        "                    'JUMBO BAG PINK POLKADOT', 'POPCORN HOLDER', 'PARTY BUNTING', 'JUMBO BAG STRAWBERRY',\n",
        "                    'HEART OF WICKER SMALL', 'COLOUR GLASS T-LIGHT HOLDER HANGING', 'GROW A FLYTRAP OR SUNFLOWER IN TIN',\n",
        "                    'RED  HARMONICA IN BOX'],\n",
        "    'Quantity': [76250.0, 43970.0, 37535.0, 30290.0, 27135.0, 22537.0, 21902.0, 21317.0, 20830.0, 20330.0,\n",
        "                 19232.0, 18605.0, 17337.0, 16344.0, 16017.0, 15053.0, 14653.0, 14357.0, 13914.0, 12986.0]\n",
        "})\n",
        "\n",
        "df_world = pd.DataFrame({\n",
        "    'StockCode': ['22492', '21212', '22629', '23084', '22630', '22326', '21731', '84077', '22554', '20719',\n",
        "                  '22551', '22328', '21915', '84991', '22489', '20725', '21977', '22961', '22417', '20724'],\n",
        "    'Description': ['MINI PAINT SET VINTAGE', 'PACK OF 72 RETROSPOT CAKE CASES', 'SPACEBOY LUNCH BOX',\n",
        "                    'RABBIT NIGHT LIGHT', 'DOLLY GIRL LUNCH BOX', 'ROUND SNACK BOXES SET OF4 WOODLAND',\n",
        "                    'RED TOADSTOOL LED NIGHT LIGHT', 'WORLD WAR 2 GLIDERS ASSTD DESIGNS',\n",
        "                    'PLASTERS IN TIN WOODLAND ANIMALS', 'WOODLAND CHARLOTTE BAG', 'PLASTERS IN TIN SPACEBOY',\n",
        "                    'ROUND SNACK BOXES SET OF 4 FRUITS', 'RED  HARMONICA IN BOX', '60 TEATIME FAIRY CAKE CASES',\n",
        "                    'PACK OF 12 TRADITIONAL CRAYONS', 'LUNCH BAG RED RETROSPOT', 'PACK OF 60 PINK PAISLEY CAKE CASES',\n",
        "                    'JAM MAKING SET PRINTED', 'PACK OF 60 SPACEBOY CAKE CASES', 'RED RETROSPOT CHARLOTTE BAG'],\n",
        "    'Quantity': [10909.0, 10653.0, 7467.0, 7244.0, 6977.0, 5979.0, 5765.0, 5041.0, 4492.0, 4400.0,\n",
        "                 4392.0, 4179.0, 4112.0, 4068.0, 4001.0, 3951.0, 3904.0, 3845.0, 3822.0, 3807.0]\n",
        "})\n",
        "\n",
        "# Visualizzazione dei DataFrame uno accanto all'altro\n",
        "print(\"Top 20 articoli più venduti nel Regno Unito:\")\n",
        "print(df_uk)\n",
        "print(\"\\nTop 20 articoli più venduti nel resto del mondo:\")\n",
        "print(df_world)\n"
      ],
      "metadata": {
        "colab": {
          "base_uri": "https://localhost:8080/"
        },
        "id": "O58rl5eM7wdO",
        "outputId": "ec4f8d4c-9256-4cbd-d974-6e2355fc04d0"
      },
      "execution_count": 143,
      "outputs": [
        {
          "output_type": "stream",
          "name": "stdout",
          "text": [
            "Top 20 articoli più venduti nel Regno Unito:\n",
            "   StockCode                          Description  Quantity\n",
            "0      23166       MEDIUM CERAMIC TOP STORAGE JAR   76250.0\n",
            "1      84077    WORLD WAR 2 GLIDERS ASSTD DESIGNS   43970.0\n",
            "2     85099B              JUMBO BAG RED RETROSPOT   37535.0\n",
            "3     85123A   WHITE HANGING HEART T-LIGHT HOLDER   30290.0\n",
            "4      84879        ASSORTED COLOUR BIRD ORNAMENT   27135.0\n",
            "5      21212      PACK OF 72 RETROSPOT CAKE CASES   22537.0\n",
            "6      22616            PACK OF 12 LONDON TISSUES   21902.0\n",
            "7      17003                   BROCADE RING PURSE   21317.0\n",
            "8      22178      VICTORIAN GLASS HANGING T-LIGHT   20830.0\n",
            "9      15036            ASSORTED COLOURS SILK FAN   20330.0\n",
            "10     21977   PACK OF 60 PINK PAISLEY CAKE CASES   19232.0\n",
            "11     22197                 SMALL POPCORN HOLDER   18605.0\n",
            "12     22386              JUMBO BAG PINK POLKADOT   17337.0\n",
            "13     22197                       POPCORN HOLDER   16344.0\n",
            "14     47566                        PARTY BUNTING   16017.0\n",
            "15    85099F                 JUMBO BAG STRAWBERRY   15053.0\n",
            "16     22469                HEART OF WICKER SMALL   14653.0\n",
            "17     84755  COLOUR GLASS T-LIGHT HOLDER HANGING   14357.0\n",
            "18     22693   GROW A FLYTRAP OR SUNFLOWER IN TIN   13914.0\n",
            "19     21915                RED  HARMONICA IN BOX   12986.0\n",
            "\n",
            "Top 20 articoli più venduti nel resto del mondo:\n",
            "   StockCode                         Description  Quantity\n",
            "0      22492              MINI PAINT SET VINTAGE   10909.0\n",
            "1      21212     PACK OF 72 RETROSPOT CAKE CASES   10653.0\n",
            "2      22629                  SPACEBOY LUNCH BOX    7467.0\n",
            "3      23084                  RABBIT NIGHT LIGHT    7244.0\n",
            "4      22630                DOLLY GIRL LUNCH BOX    6977.0\n",
            "5      22326  ROUND SNACK BOXES SET OF4 WOODLAND    5979.0\n",
            "6      21731       RED TOADSTOOL LED NIGHT LIGHT    5765.0\n",
            "7      84077   WORLD WAR 2 GLIDERS ASSTD DESIGNS    5041.0\n",
            "8      22554    PLASTERS IN TIN WOODLAND ANIMALS    4492.0\n",
            "9      20719              WOODLAND CHARLOTTE BAG    4400.0\n",
            "10     22551            PLASTERS IN TIN SPACEBOY    4392.0\n",
            "11     22328   ROUND SNACK BOXES SET OF 4 FRUITS    4179.0\n",
            "12     21915               RED  HARMONICA IN BOX    4112.0\n",
            "13     84991         60 TEATIME FAIRY CAKE CASES    4068.0\n",
            "14     22489      PACK OF 12 TRADITIONAL CRAYONS    4001.0\n",
            "15     20725             LUNCH BAG RED RETROSPOT    3951.0\n",
            "16     21977  PACK OF 60 PINK PAISLEY CAKE CASES    3904.0\n",
            "17     22961              JAM MAKING SET PRINTED    3845.0\n",
            "18     22417      PACK OF 60 SPACEBOY CAKE CASES    3822.0\n",
            "19     20724         RED RETROSPOT CHARLOTTE BAG    3807.0\n"
          ]
        }
      ]
    },
    {
      "cell_type": "markdown",
      "source": [
        "Visualizzo i giorni della settimana con più transazioni\n",
        "\n",
        "\n"
      ],
      "metadata": {
        "id": "gICWcRXWu_mg"
      }
    },
    {
      "cell_type": "code",
      "source": [
        "import pandas as pd\n",
        "\n",
        "# Carica i dati\n",
        "df = pd.read_csv(\"data.csv\", encoding=\"ISO-8859-1\", dtype={'CustomerID': str,'InvoiceID': str})\n",
        "\n",
        "# Converti la colonna 'InvoiceDate' in formato datetime\n",
        "df['InvoiceDate'] = pd.to_datetime(df['InvoiceDate'])\n",
        "\n",
        "# Estrai il giorno della settimana dalla colonna 'InvoiceDate' e salvalo in una nuova colonna 'Weekday'\n",
        "df['Weekday'] = df['InvoiceDate'].dt.dayofweek  # 0 = Lunedì, 1 = Martedì, ..., 6 = Domenica\n",
        "\n",
        "# Conta il numero di transazioni per ogni giorno della settimana\n",
        "transactions_by_weekday = df['Weekday'].value_counts()\n",
        "\n",
        "# Trova il giorno con il massimo numero di transazioni\n",
        "max_transactions_day = transactions_by_weekday.idxmax()  # Ottieni l'indice del massimo valore\n",
        "\n",
        "# Stampa il giorno della settimana con il massimo numero di transazioni\n",
        "weekday_mapping = {0: 'Lunedì', 1: 'Martedì', 2: 'Mercoledì', 3: 'Giovedì', 4: 'Venerdì', 5: 'Sabato', 6: 'Domenica'}\n",
        "most_transactions_weekday = weekday_mapping[max_transactions_day]\n",
        "print(f\"Il giorno della settimana con più transazioni è {most_transactions_weekday}.\")\n"
      ],
      "metadata": {
        "colab": {
          "base_uri": "https://localhost:8080/"
        },
        "id": "uZdTi0tau24U",
        "outputId": "ad2fffb2-9f4b-4c95-f196-0273b9c1fc79"
      },
      "execution_count": 144,
      "outputs": [
        {
          "output_type": "stream",
          "name": "stdout",
          "text": [
            "Il giorno della settimana con più transazioni è Giovedì.\n"
          ]
        }
      ]
    },
    {
      "cell_type": "code",
      "source": [
        "import matplotlib.pyplot as plt\n",
        "\n",
        "# Creazione di un dizionario per i dati del Regno Unito\n",
        "uk_data = dict(zip(df_uk['Description'], df_uk['Quantity']))\n",
        "\n",
        "# Creazione di un dizionario per i dati del resto del mondo\n",
        "world_data = dict(zip(df_world['Description'], df_world['Quantity']))\n",
        "\n",
        "# Estrai i primi 10 articoli più venduti sia per il Regno Unito che per il resto del mondo\n",
        "top_items = list(uk_data.keys())[:10] + list(world_data.keys())[:10]\n",
        "uk_quantities = [uk_data[item] if item in uk_data else 0 for item in top_items]\n",
        "world_quantities = [world_data[item] if item in world_data else 0 for item in top_items]\n",
        "\n",
        "# Creazione del grafico a barre\n",
        "plt.figure(figsize=(10, 6))\n",
        "bar_width = 0.35\n",
        "index = range(len(top_items))\n",
        "\n",
        "bar1 = plt.bar(index, uk_quantities, bar_width, label='Regno Unito')\n",
        "bar2 = plt.bar([i + bar_width for i in index], world_quantities, bar_width, label='Resto del mondo')\n",
        "\n",
        "plt.xlabel('Articoli')\n",
        "plt.ylabel('Quantità vendute')\n",
        "plt.title('Confronto delle quantità vendute per i primi 10 articoli più venduti')\n",
        "plt.xticks([i + bar_width/2 for i in index], top_items, rotation=90)\n",
        "plt.legend()\n",
        "\n",
        "plt.tight_layout()\n",
        "plt.show()\n"
      ],
      "metadata": {
        "colab": {
          "base_uri": "https://localhost:8080/",
          "height": 607
        },
        "id": "7jfRCG6L8LNe",
        "outputId": "3dcf03e7-6844-465f-8b62-80d7a642780d"
      },
      "execution_count": 145,
      "outputs": [
        {
          "output_type": "display_data",
          "data": {
            "text/plain": [
              "<Figure size 1000x600 with 1 Axes>"
            ],
            "image/png": "[encoded data removed]"
          },
          "metadata": {}
        }
      ]
    },
    {
      "cell_type": "markdown",
      "source": [],
      "metadata": {
        "id": "iWa7fYNx8KzS"
      }
    },
    {
      "cell_type": "code",
      "source": [
        "import pandas as pd\n",
        "import matplotlib.pyplot as plt\n",
        "\n",
        "# Carica i dati\n",
        "df = pd.read_csv(\"data.csv\", encoding=\"ISO-8859-1\", dtype={'CustomerID': str,'InvoiceID': str})\n",
        "\n",
        "# Converti la colonna 'InvoiceDate' in formato datetime\n",
        "df['InvoiceDate'] = pd.to_datetime(df['InvoiceDate'])\n",
        "\n",
        "# Estrai il giorno della settimana dalla colonna 'InvoiceDate' e salvalo in una nuova colonna 'Weekday'\n",
        "df['Weekday'] = df['InvoiceDate'].dt.dayofweek  # 0 = Lunedì, 1 = Martedì, ..., 6 = Domenica\n",
        "\n",
        "# Conta il numero di transazioni per ogni giorno della settimana\n",
        "transactions_by_weekday = df['Weekday'].value_counts()\n",
        "\n",
        "# Mappa i valori numerici dei giorni della settimana ai nomi dei giorni\n",
        "weekday_mapping = {0: 'Lunedì', 1: 'Martedì', 2: 'Mercoledì', 3: 'Giovedì', 4: 'Venerdì', 5: 'Sabato', 6: 'Domenica'}\n",
        "transactions_by_weekday = transactions_by_weekday.rename(index=weekday_mapping)\n",
        "\n",
        "# Visualizza i giorni della settimana con più transazioni usando un grafico a barre\n",
        "plt.figure(figsize=(10, 6))\n",
        "transactions_by_weekday.plot(kind='bar', color='skyblue')\n",
        "plt.title('Numero di transazioni per giorno della settimana')\n",
        "plt.xlabel('Giorno della settimana')\n",
        "plt.ylabel('Numero di transazioni')\n",
        "plt.xticks(rotation=45)  # Ruota le etichette sull'asse x per una migliore leggibilità\n",
        "plt.grid(axis='y', linestyle='--', alpha=0.7)  # Aggiungi griglia solo sull'asse y\n",
        "plt.tight_layout()\n",
        "plt.show()\n"
      ],
      "metadata": {
        "colab": {
          "base_uri": "https://localhost:8080/",
          "height": 607
        },
        "id": "AMzo9pj6vY6b",
        "outputId": "fead490d-db60-47aa-beb2-f3892843f7af"
      },
      "execution_count": 146,
      "outputs": [
        {
          "output_type": "display_data",
          "data": {
            "text/plain": [
              "<Figure size 1000x600 with 1 Axes>"
            ],
            "image/png": "[encoded data removed]"
          },
          "metadata": {}
        }
      ]
    },
    {
      "cell_type": "markdown",
      "source": [
        "Il numero di transazioni settimanali avvengono maggiormente Giovedì e Martedì, le quali superano le 100k."
      ],
      "metadata": {
        "id": "MueSraOI8kQH"
      }
    },
    {
      "cell_type": "code",
      "source": [
        "from google.colab import drive\n",
        "\n",
        "# Conta il numero totale di transazioni per ogni giorno della settimana\n",
        "total_transactions_by_weekday = df.groupby('Weekday').size()\n",
        "\n",
        "# Mappa i valori numerici dei giorni della settimana ai nomi dei giorni\n",
        "total_transactions_by_weekday.index = total_transactions_by_weekday.index.map(weekday_mapping)\n",
        "\n",
        "# Crea un DataFrame con il numero totale di transazioni per ogni giorno della settimana\n",
        "total_transactions_df = pd.DataFrame(total_transactions_by_weekday, columns=['Total Transactions'])\n",
        "\n",
        "# Ordina i giorni della settimana in ordine\n",
        "days_of_week_order = ['Lunedì', 'Martedì', 'Mercoledì', 'Giovedì', 'Venerdì', 'Sabato', 'Domenica']\n",
        "total_transactions_df = total_transactions_df.reindex(days_of_week_order)\n"
      ],
      "metadata": {
        "id": "erWPoSFBhl_L"
      },
      "execution_count": 147,
      "outputs": []
    },
    {
      "cell_type": "markdown",
      "source": [
        "Visualizzo le 100 keyword piu' utilizzate nel dataset all'interno della colonna description"
      ],
      "metadata": {
        "id": "6GHvzg-m8ubY"
      }
    },
    {
      "cell_type": "code",
      "source": [
        "import nltk\n",
        "nltk.download('stopwords')"
      ],
      "metadata": {
        "id": "q_5HK3nOqotn",
        "colab": {
          "base_uri": "https://localhost:8080/"
        },
        "outputId": "7d3cc35c-2d15-4c86-c3da-2ab3b51843fc"
      },
      "execution_count": 148,
      "outputs": [
        {
          "output_type": "stream",
          "name": "stderr",
          "text": [
            "[nltk_data] Downloading package stopwords to /root/nltk_data...\n",
            "[nltk_data]   Unzipping corpora/stopwords.zip.\n"
          ]
        },
        {
          "output_type": "execute_result",
          "data": {
            "text/plain": [
              "True"
            ]
          },
          "metadata": {},
          "execution_count": 148
        }
      ]
    },
    {
      "cell_type": "code",
      "source": [
        "import nltk\n",
        "nltk.download('punkt')"
      ],
      "metadata": {
        "id": "_V8dl2QFopbe",
        "colab": {
          "base_uri": "https://localhost:8080/"
        },
        "outputId": "f3151e40-8302-47eb-e2a3-502a80f3709b"
      },
      "execution_count": 149,
      "outputs": [
        {
          "output_type": "stream",
          "name": "stderr",
          "text": [
            "[nltk_data] Downloading package punkt to /root/nltk_data...\n",
            "[nltk_data]   Unzipping tokenizers/punkt.zip.\n"
          ]
        },
        {
          "output_type": "execute_result",
          "data": {
            "text/plain": [
              "True"
            ]
          },
          "metadata": {},
          "execution_count": 149
        }
      ]
    },
    {
      "cell_type": "code",
      "source": [
        "import pandas as pd\n",
        "from collections import Counter\n",
        "\n",
        "from nltk.tokenize import word_tokenize\n",
        "from nltk.corpus import stopwords\n",
        "from nltk.stem import PorterStemmer\n",
        "\n",
        "\n",
        "\n",
        "# Tokenizzazione e Pulizia dei Testi\n",
        "stop_words = set(stopwords.words('english'))\n",
        "ps = PorterStemmer()\n",
        "\n",
        "descriptions = ' '.join(df['Description'].astype(str))\n",
        "tokens = word_tokenize(descriptions)\n",
        "cleaned_tokens = [ps.stem(token.lower()) for token in tokens if token.isalpha() and token.lower() not in stop_words]\n",
        "\n",
        "# Conteggio delle Parole\n",
        "word_counts = Counter(cleaned_tokens)\n",
        "\n",
        "\n",
        "# Visualizzazione delle Parole Chiave\n",
        "top_keywords = word_counts.most_common(100)\n",
        "print(\"Le 100 parole chiave più comuni nel dataset:\")\n",
        "for keyword, count in top_keywords:\n",
        "    print(f\"{keyword}: {count}\")\n"
      ],
      "metadata": {
        "id": "pETnEdgQ7dNZ",
        "colab": {
          "base_uri": "https://localhost:8080/"
        },
        "outputId": "02f34db9-4899-4486-fb67-13c94cdb2727"
      },
      "execution_count": 150,
      "outputs": [
        {
          "output_type": "stream",
          "name": "stdout",
          "text": [
            "Le 100 parole chiave più comuni nel dataset:\n",
            "set: 55499\n",
            "bag: 52199\n",
            "heart: 44186\n",
            "red: 43367\n",
            "retrospot: 35126\n",
            "vintag: 33748\n",
            "design: 30625\n",
            "pink: 29977\n",
            "box: 28367\n",
            "christma: 25131\n",
            "cake: 23048\n",
            "metal: 21172\n",
            "jumbo: 21139\n",
            "white: 20813\n",
            "blue: 19466\n",
            "lunch: 18525\n",
            "card: 17440\n",
            "sign: 17237\n",
            "hang: 17037\n",
            "holder: 16514\n",
            "tin: 16411\n",
            "decor: 16387\n",
            "pack: 15653\n",
            "paper: 14365\n",
            "small: 14333\n",
            "wooden: 12708\n",
            "polkadot: 12633\n",
            "tea: 12429\n",
            "glass: 12417\n",
            "bottl: 12242\n",
            "case: 12169\n",
            "rose: 11788\n",
            "water: 11358\n",
            "spaceboy: 10831\n",
            "hot: 10761\n",
            "candl: 9930\n",
            "larg: 9798\n",
            "pantri: 9760\n",
            "skull: 9561\n",
            "home: 9545\n",
            "paisley: 9326\n",
            "ceram: 9180\n",
            "green: 9136\n",
            "regenc: 9120\n",
            "colour: 8798\n",
            "garden: 8758\n",
            "dolli: 8447\n",
            "mug: 8417\n",
            "girl: 8409\n",
            "doormat: 8385\n",
            "ivori: 8205\n",
            "mini: 8185\n",
            "love: 8101\n",
            "bowl: 8060\n",
            "cream: 8045\n",
            "bunt: 8001\n",
            "star: 7589\n",
            "assort: 7587\n",
            "parti: 7559\n",
            "ribbon: 7410\n",
            "clock: 7381\n",
            "feltcraft: 7216\n",
            "children: 7215\n",
            "black: 7210\n",
            "wicker: 7141\n",
            "kit: 6910\n",
            "wrap: 6883\n",
            "woodland: 6874\n",
            "frame: 6856\n",
            "light: 6795\n",
            "fairi: 6777\n",
            "doili: 6690\n",
            "drawer: 6626\n",
            "jar: 6520\n",
            "antiqu: 6478\n",
            "charlott: 6351\n",
            "silver: 6273\n",
            "flower: 6234\n",
            "strawberri: 6221\n",
            "wall: 6137\n",
            "birthday: 6123\n",
            "bird: 6052\n",
            "pencil: 6035\n",
            "wood: 6032\n",
            "cup: 5995\n",
            "appl: 5926\n",
            "zinc: 5635\n",
            "tissu: 5490\n",
            "union: 5465\n",
            "gift: 5285\n",
            "egg: 5187\n",
            "cutleri: 5185\n",
            "suki: 5075\n",
            "jam: 4999\n",
            "tree: 4975\n",
            "knob: 4953\n",
            "hand: 4944\n",
            "french: 4932\n",
            "plate: 4894\n",
            "napkin: 4890\n"
          ]
        }
      ]
    },
    {
      "cell_type": "code",
      "source": [
        "import matplotlib.pyplot as plt\n",
        "\n",
        "# Dati delle parole chiave e dei relativi conteggi\n",
        "top_keywords = ['set', 'bag', 'heart', 'red', 'retrospot', 'vintag', 'design', 'box', 'pink', 'christma',\n",
        "                'cake', 'white', 'metal', 'jumbo', 'lunch', 'blue', 'tin', 'hang', 'sign', 'holder',\n",
        "                'card', 'pack', 'decor', 'paper', 'small', 'wooden', 'case', 'tea', 'bottl', 'polkadot',\n",
        "                'glass', 'water', 'spaceboy', 'hot', 'rose', 'home', 'pantri', 'larg', 'candl', 'colour',\n",
        "                'doormat', 'ceram', 'regenc', 'skull', 'paisley', 'dolli', 'ivori', 'garden', 'cream', \"girl\"]\n",
        "\n",
        "word_counts = [40855, 37668, 32880, 31822, 26063, 25300, 23663, 20396, 20191, 18808,\n",
        "               17027, 15759, 15696, 15333, 14709, 13774, 12658, 12646, 12644, 12592,\n",
        "               12386, 11855, 11003, 10622, 10210, 9918, 9482, 9007, 8862, 8835,\n",
        "               8649, 8488, 8463, 7949, 7819, 7741, 7413, 7326, 6941, 6902,\n",
        "               6741, 6700, 6696, 6675, 6541, 6480, 6425, 6412, 6297, 6292]\n",
        "\n",
        "# Creazione del grafico a barre orizzontale\n",
        "plt.figure(figsize=(12, 10))\n",
        "plt.barh(top_keywords, word_counts, color='skyblue')\n",
        "plt.xlabel('Conteggi')\n",
        "plt.ylabel('Parole Chiave')\n",
        "plt.title('Top 50 Parole Chiave più Comuni')\n",
        "plt.gca().invert_yaxis()  # Inverti l'asse y per visualizzare la parola chiave più comune in alto\n",
        "plt.show()\n",
        "\n"
      ],
      "metadata": {
        "id": "h0gX2ITB-JNZ",
        "colab": {
          "base_uri": "https://localhost:8080/",
          "height": 873
        },
        "outputId": "ae1bd65e-f6f9-4c3d-b349-dc13fcedb20a"
      },
      "execution_count": 151,
      "outputs": [
        {
          "output_type": "display_data",
          "data": {
            "text/plain": [
              "<Figure size 1200x1000 with 1 Axes>"
            ],
            "image/png": "[encoded data removed]"
          },
          "metadata": {}
        }
      ]
    },
    {
      "cell_type": "code",
      "source": [
        "df.shape"
      ],
      "metadata": {
        "id": "zoqlffq88raO",
        "colab": {
          "base_uri": "https://localhost:8080/"
        },
        "outputId": "49090454-eec0-4ded-ec45-803113283936"
      },
      "execution_count": 152,
      "outputs": [
        {
          "output_type": "execute_result",
          "data": {
            "text/plain": [
              "(541909, 9)"
            ]
          },
          "metadata": {},
          "execution_count": 152
        }
      ]
    },
    {
      "cell_type": "markdown",
      "source": [
        "Pur trattandosi di un dataset alquanto scarno e con una parte dei dati inutilizzabili a causa della mancanza del customer id l'analisi esplorativa evidenzia alcuni trend da considerare nella successiva fase di clusterizzazione, fra questi possiamo menzionare:\n",
        "\n",
        "- la preponderanza di clienti provienienti dallo UK con oltre il 90% del fatturato proveniente dal Regno Unito è necessario prendere in considerazione questa metrica\n",
        "\n",
        "- le fatture raggruppate per importo mostra una certa varietà ed una polarizzazione su fasce di prezzo medio basse per questo è necessario considerarle nel successivo sforzo di clusterizzazione\n",
        "\n",
        "- la stagionalità degli ordini si concentra nel quarto trimestre come era normale attendersi da un e-commerce\n",
        "\n",
        "- anche l'importo della fattura media per paese denota un possibile pattern di analisi dei dati e quindi di clusterizzazione\n",
        "\n",
        "- anche il confronto fra articoli piu' venduti in uk e resto del mondo denota una sensibile divergenza nella tipologia di acquisto\n",
        "\n",
        "- il dataset è un po' scarno e fornisce dati solo relativamente alla data e ora di emissione della fattura ma non al giorno e ora in cui viene piazzato l'ordine\n",
        "\n",
        "Alla luce di questi elementi provvederemo a formulare una clusterizzazione prima dei prodotti e poi dei clienti sulla base delle abitudini di acquisto e di altre metriche emerse nella successiva fase di analisi dei dati.\n"
      ],
      "metadata": {
        "id": "iixoyr3U4GKo"
      }
    }
  ]
}